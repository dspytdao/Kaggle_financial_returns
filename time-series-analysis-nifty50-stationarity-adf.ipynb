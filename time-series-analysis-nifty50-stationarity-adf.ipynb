{
 "cells": [
  {
   "cell_type": "markdown",
   "id": "stupid-minute",
   "metadata": {
    "papermill": {
     "duration": 0.046129,
     "end_time": "2021-08-26T01:30:05.400816",
     "exception": false,
     "start_time": "2021-08-26T01:30:05.354687",
     "status": "completed"
    },
    "tags": []
   },
   "source": [
    "### Table of Contents\n",
    "1. [Description](#Desc)\n",
    "2. [Daily close](#daily)\n",
    "3. [5 minute data](#5min)\n",
    "\n",
    "The write up on an introduction to time series data: https://dspyt.com/2021/06/06/time-series-data-an-easy-introduction/"
   ]
  },
  {
   "cell_type": "markdown",
   "id": "educational-hierarchy",
   "metadata": {
    "papermill": {
     "duration": 0.042364,
     "end_time": "2021-08-26T01:30:05.486042",
     "exception": false,
     "start_time": "2021-08-26T01:30:05.443678",
     "status": "completed"
    },
    "tags": []
   },
   "source": [
    "<a id='desc'></a>\n",
    "# Description\n",
    "The data: 5 minute Nifty50 price data from 2015-01-09 to 2021-03-25\n",
    "\n",
    "Trading takes place 9:15 to 15:25 (at least in the given data)"
   ]
  },
  {
   "cell_type": "markdown",
   "id": "manual-synthesis",
   "metadata": {
    "papermill": {
     "duration": 0.042339,
     "end_time": "2021-08-26T01:30:05.572182",
     "exception": false,
     "start_time": "2021-08-26T01:30:05.529843",
     "status": "completed"
    },
    "tags": []
   },
   "source": [
    "## Importing Libraries"
   ]
  },
  {
   "cell_type": "code",
   "execution_count": 1,
   "id": "involved-verse",
   "metadata": {
    "_cell_guid": "b1076dfc-b9ad-4769-8c92-a6c4dae69d19",
    "_uuid": "8f2839f25d086af736a60e9eeb907d3b93b6e0e5",
    "execution": {
     "iopub.execute_input": "2021-08-26T01:30:05.669867Z",
     "iopub.status.busy": "2021-08-26T01:30:05.669110Z",
     "iopub.status.idle": "2021-08-26T01:30:18.108267Z",
     "shell.execute_reply": "2021-08-26T01:30:18.107301Z",
     "shell.execute_reply.started": "2021-08-26T00:48:07.989675Z"
    },
    "papermill": {
     "duration": 12.493611,
     "end_time": "2021-08-26T01:30:18.108487",
     "exception": false,
     "start_time": "2021-08-26T01:30:05.614876",
     "status": "completed"
    },
    "tags": []
   },
   "outputs": [],
   "source": [
    "from datetime import datetime\n",
    "import matplotlib.pyplot as plt\n",
    "import numpy as np\n",
    "import pandas as pd\n",
    "\n",
    "from statsmodels.graphics.tsaplots import plot_pacf, plot_acf\n",
    "from statsmodels.tsa.stattools import adfuller\n",
    "from statsmodels.tsa.arima.model import ARIMA\n",
    "from statsmodels.tsa.ar_model import AR\n",
    "\n",
    "!pip install arch >/dev/null\n",
    "from arch.univariate import ARX,  ARCH, GARCH\n",
    "\n",
    "import warnings\n",
    "warnings.filterwarnings('ignore')\n",
    "\n",
    "pd.set_option('display.max_rows', 1000)"
   ]
  },
  {
   "cell_type": "markdown",
   "id": "latin-doubt",
   "metadata": {
    "papermill": {
     "duration": 0.043317,
     "end_time": "2021-08-26T01:30:18.195429",
     "exception": false,
     "start_time": "2021-08-26T01:30:18.152112",
     "status": "completed"
    },
    "tags": []
   },
   "source": [
    "## Importing and cleaning data"
   ]
  },
  {
   "cell_type": "code",
   "execution_count": 2,
   "id": "circular-overall",
   "metadata": {
    "execution": {
     "iopub.execute_input": "2021-08-26T01:30:18.285599Z",
     "iopub.status.busy": "2021-08-26T01:30:18.284867Z",
     "iopub.status.idle": "2021-08-26T01:30:18.288543Z",
     "shell.execute_reply": "2021-08-26T01:30:18.289013Z",
     "shell.execute_reply.started": "2021-08-26T00:51:33.640681Z"
    },
    "papermill": {
     "duration": 0.050056,
     "end_time": "2021-08-26T01:30:18.289192",
     "exception": false,
     "start_time": "2021-08-26T01:30:18.239136",
     "status": "completed"
    },
    "tags": []
   },
   "outputs": [],
   "source": [
    "def parser(s):\n",
    "    return datetime.strptime(s[:19], '%Y-%m-%d %H:%M:%S')"
   ]
  },
  {
   "cell_type": "code",
   "execution_count": 3,
   "id": "ranging-reception",
   "metadata": {
    "execution": {
     "iopub.execute_input": "2021-08-26T01:30:18.379610Z",
     "iopub.status.busy": "2021-08-26T01:30:18.378935Z",
     "iopub.status.idle": "2021-08-26T01:30:20.470045Z",
     "shell.execute_reply": "2021-08-26T01:30:20.469442Z",
     "shell.execute_reply.started": "2021-08-26T00:52:02.635124Z"
    },
    "papermill": {
     "duration": 2.13758,
     "end_time": "2021-08-26T01:30:20.470187",
     "exception": false,
     "start_time": "2021-08-26T01:30:18.332607",
     "status": "completed"
    },
    "tags": []
   },
   "outputs": [],
   "source": [
    "df = pd.read_csv(\"/kaggle/input/6-year-nifty50-historical-data-of-5-30-min-candle/5min_N50_10yr.csv\", usecols = ['date','close'], parse_dates=['date'], date_parser=parser, index_col='date')"
   ]
  },
  {
   "cell_type": "code",
   "execution_count": 4,
   "id": "rotary-accessory",
   "metadata": {
    "execution": {
     "iopub.execute_input": "2021-08-26T01:30:20.565081Z",
     "iopub.status.busy": "2021-08-26T01:30:20.564037Z",
     "iopub.status.idle": "2021-08-26T01:30:20.580654Z",
     "shell.execute_reply": "2021-08-26T01:30:20.579999Z",
     "shell.execute_reply.started": "2021-08-26T00:52:19.791497Z"
    },
    "papermill": {
     "duration": 0.066692,
     "end_time": "2021-08-26T01:30:20.580805",
     "exception": false,
     "start_time": "2021-08-26T01:30:20.514113",
     "status": "completed"
    },
    "tags": []
   },
   "outputs": [
    {
     "data": {
      "text/html": [
       "<div>\n",
       "<style scoped>\n",
       "    .dataframe tbody tr th:only-of-type {\n",
       "        vertical-align: middle;\n",
       "    }\n",
       "\n",
       "    .dataframe tbody tr th {\n",
       "        vertical-align: top;\n",
       "    }\n",
       "\n",
       "    .dataframe thead th {\n",
       "        text-align: right;\n",
       "    }\n",
       "</style>\n",
       "<table border=\"1\" class=\"dataframe\">\n",
       "  <thead>\n",
       "    <tr style=\"text-align: right;\">\n",
       "      <th></th>\n",
       "      <th>close</th>\n",
       "    </tr>\n",
       "    <tr>\n",
       "      <th>date</th>\n",
       "      <th></th>\n",
       "    </tr>\n",
       "  </thead>\n",
       "  <tbody>\n",
       "    <tr>\n",
       "      <th>2015-01-09 09:15:00</th>\n",
       "      <td>8301.2</td>\n",
       "    </tr>\n",
       "    <tr>\n",
       "      <th>2015-01-09 09:20:00</th>\n",
       "      <td>8301.0</td>\n",
       "    </tr>\n",
       "  </tbody>\n",
       "</table>\n",
       "</div>"
      ],
      "text/plain": [
       "                      close\n",
       "date                       \n",
       "2015-01-09 09:15:00  8301.2\n",
       "2015-01-09 09:20:00  8301.0"
      ]
     },
     "execution_count": 4,
     "metadata": {},
     "output_type": "execute_result"
    }
   ],
   "source": [
    "df.head(2)"
   ]
  },
  {
   "cell_type": "code",
   "execution_count": 5,
   "id": "proof-overhead",
   "metadata": {
    "execution": {
     "iopub.execute_input": "2021-08-26T01:30:20.676016Z",
     "iopub.status.busy": "2021-08-26T01:30:20.674359Z",
     "iopub.status.idle": "2021-08-26T01:30:20.691722Z",
     "shell.execute_reply": "2021-08-26T01:30:20.692566Z",
     "shell.execute_reply.started": "2021-08-26T00:52:21.842099Z"
    },
    "papermill": {
     "duration": 0.067074,
     "end_time": "2021-08-26T01:30:20.692798",
     "exception": false,
     "start_time": "2021-08-26T01:30:20.625724",
     "status": "completed"
    },
    "tags": []
   },
   "outputs": [
    {
     "name": "stdout",
     "output_type": "stream",
     "text": [
      "<class 'pandas.core.frame.DataFrame'>\n",
      "DatetimeIndex: 114830 entries, 2015-01-09 09:15:00 to 2021-03-25 15:25:00\n",
      "Data columns (total 1 columns):\n",
      " #   Column  Non-Null Count   Dtype  \n",
      "---  ------  --------------   -----  \n",
      " 0   close   114830 non-null  float64\n",
      "dtypes: float64(1)\n",
      "memory usage: 1.8 MB\n"
     ]
    }
   ],
   "source": [
    "df.info()"
   ]
  },
  {
   "cell_type": "markdown",
   "id": "powerful-labor",
   "metadata": {
    "papermill": {
     "duration": 0.044893,
     "end_time": "2021-08-26T01:30:20.781748",
     "exception": false,
     "start_time": "2021-08-26T01:30:20.736855",
     "status": "completed"
    },
    "tags": []
   },
   "source": [
    "### Ideas to explore"
   ]
  },
  {
   "cell_type": "code",
   "execution_count": 6,
   "id": "whole-mileage",
   "metadata": {
    "execution": {
     "iopub.execute_input": "2021-08-26T01:30:20.924532Z",
     "iopub.status.busy": "2021-08-26T01:30:20.923798Z",
     "iopub.status.idle": "2021-08-26T01:30:21.975130Z",
     "shell.execute_reply": "2021-08-26T01:30:21.974534Z",
     "shell.execute_reply.started": "2021-08-26T00:52:28.605720Z"
    },
    "papermill": {
     "duration": 1.149656,
     "end_time": "2021-08-26T01:30:21.975296",
     "exception": false,
     "start_time": "2021-08-26T01:30:20.825640",
     "status": "completed"
    },
    "tags": []
   },
   "outputs": [
    {
     "data": {
      "text/html": [
       "<div>\n",
       "<style scoped>\n",
       "    .dataframe tbody tr th:only-of-type {\n",
       "        vertical-align: middle;\n",
       "    }\n",
       "\n",
       "    .dataframe tbody tr th {\n",
       "        vertical-align: top;\n",
       "    }\n",
       "\n",
       "    .dataframe thead th {\n",
       "        text-align: right;\n",
       "    }\n",
       "</style>\n",
       "<table border=\"1\" class=\"dataframe\">\n",
       "  <thead>\n",
       "    <tr style=\"text-align: right;\">\n",
       "      <th></th>\n",
       "      <th>close</th>\n",
       "    </tr>\n",
       "  </thead>\n",
       "  <tbody>\n",
       "    <tr>\n",
       "      <th>2015-01-09</th>\n",
       "      <td>0.010139</td>\n",
       "    </tr>\n",
       "    <tr>\n",
       "      <th>2015-01-12</th>\n",
       "      <td>0.006394</td>\n",
       "    </tr>\n",
       "    <tr>\n",
       "      <th>2015-01-13</th>\n",
       "      <td>0.006284</td>\n",
       "    </tr>\n",
       "    <tr>\n",
       "      <th>2015-01-14</th>\n",
       "      <td>0.007435</td>\n",
       "    </tr>\n",
       "    <tr>\n",
       "      <th>2015-01-15</th>\n",
       "      <td>0.007538</td>\n",
       "    </tr>\n",
       "    <tr>\n",
       "      <th>...</th>\n",
       "      <td>...</td>\n",
       "    </tr>\n",
       "    <tr>\n",
       "      <th>2021-03-19</th>\n",
       "      <td>0.012456</td>\n",
       "    </tr>\n",
       "    <tr>\n",
       "      <th>2021-03-22</th>\n",
       "      <td>0.008741</td>\n",
       "    </tr>\n",
       "    <tr>\n",
       "      <th>2021-03-23</th>\n",
       "      <td>0.010783</td>\n",
       "    </tr>\n",
       "    <tr>\n",
       "      <th>2021-03-24</th>\n",
       "      <td>0.009118</td>\n",
       "    </tr>\n",
       "    <tr>\n",
       "      <th>2021-03-25</th>\n",
       "      <td>0.012251</td>\n",
       "    </tr>\n",
       "  </tbody>\n",
       "</table>\n",
       "<p>1537 rows × 1 columns</p>\n",
       "</div>"
      ],
      "text/plain": [
       "               close\n",
       "2015-01-09  0.010139\n",
       "2015-01-12  0.006394\n",
       "2015-01-13  0.006284\n",
       "2015-01-14  0.007435\n",
       "2015-01-15  0.007538\n",
       "...              ...\n",
       "2021-03-19  0.012456\n",
       "2021-03-22  0.008741\n",
       "2021-03-23  0.010783\n",
       "2021-03-24  0.009118\n",
       "2021-03-25  0.012251\n",
       "\n",
       "[1537 rows x 1 columns]"
      ]
     },
     "execution_count": 6,
     "metadata": {},
     "output_type": "execute_result"
    }
   ],
   "source": [
    "def realized_volatility(series):\n",
    "    series = np.log(series).diff()\n",
    "    return np.sqrt(np.sum(series**2))\n",
    "df.groupby(df.index.date).agg(realized_volatility)"
   ]
  },
  {
   "cell_type": "code",
   "execution_count": 7,
   "id": "interpreted-religious",
   "metadata": {
    "execution": {
     "iopub.execute_input": "2021-08-26T01:30:22.140064Z",
     "iopub.status.busy": "2021-08-26T01:30:22.113878Z",
     "iopub.status.idle": "2021-08-26T01:30:23.047293Z",
     "shell.execute_reply": "2021-08-26T01:30:23.046627Z",
     "shell.execute_reply.started": "2021-08-26T00:52:42.658619Z"
    },
    "papermill": {
     "duration": 1.027149,
     "end_time": "2021-08-26T01:30:23.047434",
     "exception": false,
     "start_time": "2021-08-26T01:30:22.020285",
     "status": "completed"
    },
    "tags": []
   },
   "outputs": [
    {
     "data": {
      "text/html": [
       "<div>\n",
       "<style scoped>\n",
       "    .dataframe tbody tr th:only-of-type {\n",
       "        vertical-align: middle;\n",
       "    }\n",
       "\n",
       "    .dataframe tbody tr th {\n",
       "        vertical-align: top;\n",
       "    }\n",
       "\n",
       "    .dataframe thead th {\n",
       "        text-align: right;\n",
       "    }\n",
       "</style>\n",
       "<table border=\"1\" class=\"dataframe\">\n",
       "  <thead>\n",
       "    <tr style=\"text-align: right;\">\n",
       "      <th></th>\n",
       "      <th>close</th>\n",
       "    </tr>\n",
       "  </thead>\n",
       "  <tbody>\n",
       "    <tr>\n",
       "      <th>2015-01-09</th>\n",
       "      <td>3.618181e-08</td>\n",
       "    </tr>\n",
       "    <tr>\n",
       "      <th>2015-01-12</th>\n",
       "      <td>2.467419e-09</td>\n",
       "    </tr>\n",
       "    <tr>\n",
       "      <th>2015-01-13</th>\n",
       "      <td>3.661863e-09</td>\n",
       "    </tr>\n",
       "    <tr>\n",
       "      <th>2015-01-14</th>\n",
       "      <td>5.108266e-09</td>\n",
       "    </tr>\n",
       "    <tr>\n",
       "      <th>2015-01-15</th>\n",
       "      <td>8.741821e-09</td>\n",
       "    </tr>\n",
       "    <tr>\n",
       "      <th>...</th>\n",
       "      <td>...</td>\n",
       "    </tr>\n",
       "    <tr>\n",
       "      <th>2021-03-19</th>\n",
       "      <td>2.818765e-08</td>\n",
       "    </tr>\n",
       "    <tr>\n",
       "      <th>2021-03-22</th>\n",
       "      <td>4.528229e-09</td>\n",
       "    </tr>\n",
       "    <tr>\n",
       "      <th>2021-03-23</th>\n",
       "      <td>2.609275e-08</td>\n",
       "    </tr>\n",
       "    <tr>\n",
       "      <th>2021-03-24</th>\n",
       "      <td>1.800327e-08</td>\n",
       "    </tr>\n",
       "    <tr>\n",
       "      <th>2021-03-25</th>\n",
       "      <td>3.813177e-08</td>\n",
       "    </tr>\n",
       "  </tbody>\n",
       "</table>\n",
       "<p>1537 rows × 1 columns</p>\n",
       "</div>"
      ],
      "text/plain": [
       "                   close\n",
       "2015-01-09  3.618181e-08\n",
       "2015-01-12  2.467419e-09\n",
       "2015-01-13  3.661863e-09\n",
       "2015-01-14  5.108266e-09\n",
       "2015-01-15  8.741821e-09\n",
       "...                  ...\n",
       "2021-03-19  2.818765e-08\n",
       "2021-03-22  4.528229e-09\n",
       "2021-03-23  2.609275e-08\n",
       "2021-03-24  1.800327e-08\n",
       "2021-03-25  3.813177e-08\n",
       "\n",
       "[1537 rows x 1 columns]"
      ]
     },
     "execution_count": 7,
     "metadata": {},
     "output_type": "execute_result"
    }
   ],
   "source": [
    "def realized_quarticity(series):\n",
    "    series = np.log(series).diff()\n",
    "    return np.sum(series**4)*series.shape[0]/3\n",
    "df.groupby(df.index.date).agg(realized_quarticity)"
   ]
  },
  {
   "cell_type": "code",
   "execution_count": 8,
   "id": "biological-ecology",
   "metadata": {
    "execution": {
     "iopub.execute_input": "2021-08-26T01:30:23.213467Z",
     "iopub.status.busy": "2021-08-26T01:30:23.142727Z",
     "iopub.status.idle": "2021-08-26T01:30:25.545270Z",
     "shell.execute_reply": "2021-08-26T01:30:25.544576Z",
     "shell.execute_reply.started": "2021-08-26T00:53:44.346127Z"
    },
    "papermill": {
     "duration": 2.453313,
     "end_time": "2021-08-26T01:30:25.545430",
     "exception": false,
     "start_time": "2021-08-26T01:30:23.092117",
     "status": "completed"
    },
    "tags": []
   },
   "outputs": [
    {
     "data": {
      "text/html": [
       "<div>\n",
       "<style scoped>\n",
       "    .dataframe tbody tr th:only-of-type {\n",
       "        vertical-align: middle;\n",
       "    }\n",
       "\n",
       "    .dataframe tbody tr th {\n",
       "        vertical-align: top;\n",
       "    }\n",
       "\n",
       "    .dataframe thead th {\n",
       "        text-align: right;\n",
       "    }\n",
       "</style>\n",
       "<table border=\"1\" class=\"dataframe\">\n",
       "  <thead>\n",
       "    <tr style=\"text-align: right;\">\n",
       "      <th></th>\n",
       "      <th>close</th>\n",
       "    </tr>\n",
       "  </thead>\n",
       "  <tbody>\n",
       "    <tr>\n",
       "      <th>2015-01-09</th>\n",
       "      <td>6.535995e-09</td>\n",
       "    </tr>\n",
       "    <tr>\n",
       "      <th>2015-01-12</th>\n",
       "      <td>1.467300e-09</td>\n",
       "    </tr>\n",
       "    <tr>\n",
       "      <th>2015-01-13</th>\n",
       "      <td>1.087331e-09</td>\n",
       "    </tr>\n",
       "    <tr>\n",
       "      <th>2015-01-14</th>\n",
       "      <td>2.291618e-09</td>\n",
       "    </tr>\n",
       "    <tr>\n",
       "      <th>2015-01-15</th>\n",
       "      <td>2.352199e-09</td>\n",
       "    </tr>\n",
       "    <tr>\n",
       "      <th>...</th>\n",
       "      <td>...</td>\n",
       "    </tr>\n",
       "    <tr>\n",
       "      <th>2021-03-19</th>\n",
       "      <td>1.126279e-08</td>\n",
       "    </tr>\n",
       "    <tr>\n",
       "      <th>2021-03-22</th>\n",
       "      <td>7.136973e-09</td>\n",
       "    </tr>\n",
       "    <tr>\n",
       "      <th>2021-03-23</th>\n",
       "      <td>1.314294e-08</td>\n",
       "    </tr>\n",
       "    <tr>\n",
       "      <th>2021-03-24</th>\n",
       "      <td>7.835740e-09</td>\n",
       "    </tr>\n",
       "    <tr>\n",
       "      <th>2021-03-25</th>\n",
       "      <td>3.442120e-08</td>\n",
       "    </tr>\n",
       "  </tbody>\n",
       "</table>\n",
       "<p>1537 rows × 1 columns</p>\n",
       "</div>"
      ],
      "text/plain": [
       "                   close\n",
       "2015-01-09  6.535995e-09\n",
       "2015-01-12  1.467300e-09\n",
       "2015-01-13  1.087331e-09\n",
       "2015-01-14  2.291618e-09\n",
       "2015-01-15  2.352199e-09\n",
       "...                  ...\n",
       "2021-03-19  1.126279e-08\n",
       "2021-03-22  7.136973e-09\n",
       "2021-03-23  1.314294e-08\n",
       "2021-03-24  7.835740e-09\n",
       "2021-03-25  3.442120e-08\n",
       "\n",
       "[1537 rows x 1 columns]"
      ]
     },
     "execution_count": 8,
     "metadata": {},
     "output_type": "execute_result"
    }
   ],
   "source": [
    "def realized_quadpower_quarticity(series):\n",
    "    series = np.log(series).diff()\n",
    "    series = abs(series.rolling(window=4).apply(np.product, raw=True))\n",
    "    return (np.sum(series) * series.shape[0] * (np.pi**2))/4\n",
    "df.groupby(df.index.date).agg(realized_quadpower_quarticity)"
   ]
  },
  {
   "cell_type": "code",
   "execution_count": 9,
   "id": "oriented-somalia",
   "metadata": {
    "execution": {
     "iopub.execute_input": "2021-08-26T01:30:25.644673Z",
     "iopub.status.busy": "2021-08-26T01:30:25.643987Z",
     "iopub.status.idle": "2021-08-26T01:30:25.647285Z",
     "shell.execute_reply": "2021-08-26T01:30:25.646622Z",
     "shell.execute_reply.started": "2021-08-26T01:05:46.384439Z"
    },
    "papermill": {
     "duration": 0.052792,
     "end_time": "2021-08-26T01:30:25.647428",
     "exception": false,
     "start_time": "2021-08-26T01:30:25.594636",
     "status": "completed"
    },
    "tags": []
   },
   "outputs": [],
   "source": [
    "from scipy.special import gamma"
   ]
  },
  {
   "cell_type": "code",
   "execution_count": 10,
   "id": "greek-momentum",
   "metadata": {
    "execution": {
     "iopub.execute_input": "2021-08-26T01:30:25.813461Z",
     "iopub.status.busy": "2021-08-26T01:30:25.812750Z",
     "iopub.status.idle": "2021-08-26T01:30:28.160247Z",
     "shell.execute_reply": "2021-08-26T01:30:28.159613Z",
     "shell.execute_reply.started": "2021-08-26T01:08:13.609122Z"
    },
    "papermill": {
     "duration": 2.467965,
     "end_time": "2021-08-26T01:30:28.160388",
     "exception": false,
     "start_time": "2021-08-26T01:30:25.692423",
     "status": "completed"
    },
    "tags": []
   },
   "outputs": [
    {
     "data": {
      "text/html": [
       "<div>\n",
       "<style scoped>\n",
       "    .dataframe tbody tr th:only-of-type {\n",
       "        vertical-align: middle;\n",
       "    }\n",
       "\n",
       "    .dataframe tbody tr th {\n",
       "        vertical-align: top;\n",
       "    }\n",
       "\n",
       "    .dataframe thead th {\n",
       "        text-align: right;\n",
       "    }\n",
       "</style>\n",
       "<table border=\"1\" class=\"dataframe\">\n",
       "  <thead>\n",
       "    <tr style=\"text-align: right;\">\n",
       "      <th></th>\n",
       "      <th>close</th>\n",
       "    </tr>\n",
       "  </thead>\n",
       "  <tbody>\n",
       "    <tr>\n",
       "      <th>2015-01-09</th>\n",
       "      <td>6.535995e-09</td>\n",
       "    </tr>\n",
       "    <tr>\n",
       "      <th>2015-01-12</th>\n",
       "      <td>1.467300e-09</td>\n",
       "    </tr>\n",
       "    <tr>\n",
       "      <th>2015-01-13</th>\n",
       "      <td>1.087331e-09</td>\n",
       "    </tr>\n",
       "    <tr>\n",
       "      <th>2015-01-14</th>\n",
       "      <td>2.291618e-09</td>\n",
       "    </tr>\n",
       "    <tr>\n",
       "      <th>2015-01-15</th>\n",
       "      <td>2.352199e-09</td>\n",
       "    </tr>\n",
       "    <tr>\n",
       "      <th>...</th>\n",
       "      <td>...</td>\n",
       "    </tr>\n",
       "    <tr>\n",
       "      <th>2021-03-19</th>\n",
       "      <td>1.126279e-08</td>\n",
       "    </tr>\n",
       "    <tr>\n",
       "      <th>2021-03-22</th>\n",
       "      <td>7.136973e-09</td>\n",
       "    </tr>\n",
       "    <tr>\n",
       "      <th>2021-03-23</th>\n",
       "      <td>1.314294e-08</td>\n",
       "    </tr>\n",
       "    <tr>\n",
       "      <th>2021-03-24</th>\n",
       "      <td>7.835740e-09</td>\n",
       "    </tr>\n",
       "    <tr>\n",
       "      <th>2021-03-25</th>\n",
       "      <td>3.442120e-08</td>\n",
       "    </tr>\n",
       "  </tbody>\n",
       "</table>\n",
       "<p>1537 rows × 1 columns</p>\n",
       "</div>"
      ],
      "text/plain": [
       "                   close\n",
       "2015-01-09  6.535995e-09\n",
       "2015-01-12  1.467300e-09\n",
       "2015-01-13  1.087331e-09\n",
       "2015-01-14  2.291618e-09\n",
       "2015-01-15  2.352199e-09\n",
       "...                  ...\n",
       "2021-03-19  1.126279e-08\n",
       "2021-03-22  7.136973e-09\n",
       "2021-03-23  1.314294e-08\n",
       "2021-03-24  7.835740e-09\n",
       "2021-03-25  3.442120e-08\n",
       "\n",
       "[1537 rows x 1 columns]"
      ]
     },
     "execution_count": 10,
     "metadata": {},
     "output_type": "execute_result"
    }
   ],
   "source": [
    "def realized_tripower_quarticity(series):\n",
    "    series = np.log(series).diff() ** (4/3)\n",
    "    series = abs(series).rolling(window=3).apply(np.prod, raw=True)\n",
    "    return series.shape[0]*0.25*((gamma(1/2)**3)/(gamma(7/6)**3))*np.sum(series)\n",
    "df.groupby(df.index.date).agg(realized_quadpower_quarticity)"
   ]
  },
  {
   "cell_type": "code",
   "execution_count": 11,
   "id": "binding-leonard",
   "metadata": {
    "execution": {
     "iopub.execute_input": "2021-08-26T01:30:28.325560Z",
     "iopub.status.busy": "2021-08-26T01:30:28.324862Z",
     "iopub.status.idle": "2021-08-26T01:30:28.806603Z",
     "shell.execute_reply": "2021-08-26T01:30:28.805816Z",
     "shell.execute_reply.started": "2021-08-22T21:05:30.701606Z"
    },
    "papermill": {
     "duration": 0.6008,
     "end_time": "2021-08-26T01:30:28.806766",
     "exception": false,
     "start_time": "2021-08-26T01:30:28.205966",
     "status": "completed"
    },
    "tags": []
   },
   "outputs": [
    {
     "data": {
      "text/html": [
       "<div>\n",
       "<style scoped>\n",
       "    .dataframe tbody tr th:only-of-type {\n",
       "        vertical-align: middle;\n",
       "    }\n",
       "\n",
       "    .dataframe tbody tr th {\n",
       "        vertical-align: top;\n",
       "    }\n",
       "\n",
       "    .dataframe thead th {\n",
       "        text-align: right;\n",
       "    }\n",
       "</style>\n",
       "<table border=\"1\" class=\"dataframe\">\n",
       "  <thead>\n",
       "    <tr style=\"text-align: right;\">\n",
       "      <th></th>\n",
       "      <th>close</th>\n",
       "    </tr>\n",
       "  </thead>\n",
       "  <tbody>\n",
       "    <tr>\n",
       "      <th>2015-01-09</th>\n",
       "      <td>5.115726e+09</td>\n",
       "    </tr>\n",
       "    <tr>\n",
       "      <th>2015-01-12</th>\n",
       "      <td>5.147619e+09</td>\n",
       "    </tr>\n",
       "    <tr>\n",
       "      <th>2015-01-13</th>\n",
       "      <td>5.205811e+09</td>\n",
       "    </tr>\n",
       "    <tr>\n",
       "      <th>2015-01-14</th>\n",
       "      <td>5.141607e+09</td>\n",
       "    </tr>\n",
       "    <tr>\n",
       "      <th>2015-01-15</th>\n",
       "      <td>5.364663e+09</td>\n",
       "    </tr>\n",
       "    <tr>\n",
       "      <th>...</th>\n",
       "      <td>...</td>\n",
       "    </tr>\n",
       "    <tr>\n",
       "      <th>2021-03-19</th>\n",
       "      <td>1.595384e+10</td>\n",
       "    </tr>\n",
       "    <tr>\n",
       "      <th>2021-03-22</th>\n",
       "      <td>1.616414e+10</td>\n",
       "    </tr>\n",
       "    <tr>\n",
       "      <th>2021-03-23</th>\n",
       "      <td>1.641804e+10</td>\n",
       "    </tr>\n",
       "    <tr>\n",
       "      <th>2021-03-24</th>\n",
       "      <td>1.607068e+10</td>\n",
       "    </tr>\n",
       "    <tr>\n",
       "      <th>2021-03-25</th>\n",
       "      <td>1.550089e+10</td>\n",
       "    </tr>\n",
       "  </tbody>\n",
       "</table>\n",
       "<p>1537 rows × 1 columns</p>\n",
       "</div>"
      ],
      "text/plain": [
       "                   close\n",
       "2015-01-09  5.115726e+09\n",
       "2015-01-12  5.147619e+09\n",
       "2015-01-13  5.205811e+09\n",
       "2015-01-14  5.141607e+09\n",
       "2015-01-15  5.364663e+09\n",
       "...                  ...\n",
       "2021-03-19  1.595384e+10\n",
       "2021-03-22  1.616414e+10\n",
       "2021-03-23  1.641804e+10\n",
       "2021-03-24  1.607068e+10\n",
       "2021-03-25  1.550089e+10\n",
       "\n",
       "[1537 rows x 1 columns]"
      ]
     },
     "execution_count": 11,
     "metadata": {},
     "output_type": "execute_result"
    }
   ],
   "source": [
    "def realized_variance(series):\n",
    "    return np.sum(series**2)\n",
    "df.groupby(df.index.date).agg(realized_variance)"
   ]
  },
  {
   "cell_type": "code",
   "execution_count": 12,
   "id": "economic-default",
   "metadata": {
    "execution": {
     "iopub.execute_input": "2021-08-26T01:30:28.981173Z",
     "iopub.status.busy": "2021-08-26T01:30:28.956165Z",
     "iopub.status.idle": "2021-08-26T01:30:30.795012Z",
     "shell.execute_reply": "2021-08-26T01:30:30.794359Z",
     "shell.execute_reply.started": "2021-08-22T21:05:34.374823Z"
    },
    "papermill": {
     "duration": 1.936675,
     "end_time": "2021-08-26T01:30:30.795153",
     "exception": false,
     "start_time": "2021-08-26T01:30:28.858478",
     "status": "completed"
    },
    "tags": []
   },
   "outputs": [
    {
     "data": {
      "text/html": [
       "<div>\n",
       "<style scoped>\n",
       "    .dataframe tbody tr th:only-of-type {\n",
       "        vertical-align: middle;\n",
       "    }\n",
       "\n",
       "    .dataframe tbody tr th {\n",
       "        vertical-align: top;\n",
       "    }\n",
       "\n",
       "    .dataframe thead th {\n",
       "        text-align: right;\n",
       "    }\n",
       "</style>\n",
       "<table border=\"1\" class=\"dataframe\">\n",
       "  <thead>\n",
       "    <tr style=\"text-align: right;\">\n",
       "      <th></th>\n",
       "      <th>close</th>\n",
       "    </tr>\n",
       "  </thead>\n",
       "  <tbody>\n",
       "    <tr>\n",
       "      <th>2015-01-09</th>\n",
       "      <td>1.245294e+10</td>\n",
       "    </tr>\n",
       "    <tr>\n",
       "      <th>2015-01-12</th>\n",
       "      <td>1.253138e+10</td>\n",
       "    </tr>\n",
       "    <tr>\n",
       "      <th>2015-01-13</th>\n",
       "      <td>1.267393e+10</td>\n",
       "    </tr>\n",
       "    <tr>\n",
       "      <th>2015-01-14</th>\n",
       "      <td>1.251658e+10</td>\n",
       "    </tr>\n",
       "    <tr>\n",
       "      <th>2015-01-15</th>\n",
       "      <td>1.306079e+10</td>\n",
       "    </tr>\n",
       "    <tr>\n",
       "      <th>...</th>\n",
       "      <td>...</td>\n",
       "    </tr>\n",
       "    <tr>\n",
       "      <th>2021-03-19</th>\n",
       "      <td>3.884018e+10</td>\n",
       "    </tr>\n",
       "    <tr>\n",
       "      <th>2021-03-22</th>\n",
       "      <td>3.934953e+10</td>\n",
       "    </tr>\n",
       "    <tr>\n",
       "      <th>2021-03-23</th>\n",
       "      <td>3.996929e+10</td>\n",
       "    </tr>\n",
       "    <tr>\n",
       "      <th>2021-03-24</th>\n",
       "      <td>3.912358e+10</td>\n",
       "    </tr>\n",
       "    <tr>\n",
       "      <th>2021-03-25</th>\n",
       "      <td>3.773422e+10</td>\n",
       "    </tr>\n",
       "  </tbody>\n",
       "</table>\n",
       "<p>1537 rows × 1 columns</p>\n",
       "</div>"
      ],
      "text/plain": [
       "                   close\n",
       "2015-01-09  1.245294e+10\n",
       "2015-01-12  1.253138e+10\n",
       "2015-01-13  1.267393e+10\n",
       "2015-01-14  1.251658e+10\n",
       "2015-01-15  1.306079e+10\n",
       "...                  ...\n",
       "2021-03-19  3.884018e+10\n",
       "2021-03-22  3.934953e+10\n",
       "2021-03-23  3.996929e+10\n",
       "2021-03-24  3.912358e+10\n",
       "2021-03-25  3.773422e+10\n",
       "\n",
       "[1537 rows x 1 columns]"
      ]
     },
     "execution_count": 12,
     "metadata": {},
     "output_type": "execute_result"
    }
   ],
   "source": [
    "def bvar(series):\n",
    "    series = abs(series).rolling(window=2).apply(np.prod, raw=True)\n",
    "    return np.sum(series)*((2/np.pi)**(-2))\n",
    "df.groupby(df.index.date).agg(bvar)"
   ]
  },
  {
   "cell_type": "code",
   "execution_count": 13,
   "id": "fitting-complexity",
   "metadata": {
    "execution": {
     "iopub.execute_input": "2021-08-26T01:30:30.965727Z",
     "iopub.status.busy": "2021-08-26T01:30:30.939814Z",
     "iopub.status.idle": "2021-08-26T01:30:42.870600Z",
     "shell.execute_reply": "2021-08-26T01:30:42.869823Z",
     "shell.execute_reply.started": "2021-08-22T21:11:56.729112Z"
    },
    "papermill": {
     "duration": 12.028843,
     "end_time": "2021-08-26T01:30:42.870764",
     "exception": false,
     "start_time": "2021-08-26T01:30:30.841921",
     "status": "completed"
    },
    "tags": []
   },
   "outputs": [
    {
     "data": {
      "text/html": [
       "<div>\n",
       "<style scoped>\n",
       "    .dataframe tbody tr th:only-of-type {\n",
       "        vertical-align: middle;\n",
       "    }\n",
       "\n",
       "    .dataframe tbody tr th {\n",
       "        vertical-align: top;\n",
       "    }\n",
       "\n",
       "    .dataframe thead th {\n",
       "        text-align: right;\n",
       "    }\n",
       "</style>\n",
       "<table border=\"1\" class=\"dataframe\">\n",
       "  <thead>\n",
       "    <tr style=\"text-align: right;\">\n",
       "      <th></th>\n",
       "      <th>close</th>\n",
       "    </tr>\n",
       "  </thead>\n",
       "  <tbody>\n",
       "    <tr>\n",
       "      <th>2015-01-29</th>\n",
       "      <td>2.989735e-05</td>\n",
       "    </tr>\n",
       "    <tr>\n",
       "      <th>2015-03-03</th>\n",
       "      <td>3.465712e-06</td>\n",
       "    </tr>\n",
       "    <tr>\n",
       "      <th>2015-03-26</th>\n",
       "      <td>1.650459e-05</td>\n",
       "    </tr>\n",
       "    <tr>\n",
       "      <th>2015-08-17</th>\n",
       "      <td>9.118860e-07</td>\n",
       "    </tr>\n",
       "    <tr>\n",
       "      <th>2015-09-29</th>\n",
       "      <td>1.867436e-06</td>\n",
       "    </tr>\n",
       "    <tr>\n",
       "      <th>2015-11-11</th>\n",
       "      <td>2.094858e-07</td>\n",
       "    </tr>\n",
       "    <tr>\n",
       "      <th>2015-11-20</th>\n",
       "      <td>6.850363e-06</td>\n",
       "    </tr>\n",
       "    <tr>\n",
       "      <th>2015-12-28</th>\n",
       "      <td>1.096691e-06</td>\n",
       "    </tr>\n",
       "    <tr>\n",
       "      <th>2016-03-16</th>\n",
       "      <td>3.313165e-06</td>\n",
       "    </tr>\n",
       "    <tr>\n",
       "      <th>2016-05-05</th>\n",
       "      <td>1.056181e-05</td>\n",
       "    </tr>\n",
       "    <tr>\n",
       "      <th>2016-05-13</th>\n",
       "      <td>2.505974e-05</td>\n",
       "    </tr>\n",
       "    <tr>\n",
       "      <th>2016-10-30</th>\n",
       "      <td>1.172710e-06</td>\n",
       "    </tr>\n",
       "    <tr>\n",
       "      <th>2016-12-07</th>\n",
       "      <td>1.578889e-05</td>\n",
       "    </tr>\n",
       "    <tr>\n",
       "      <th>2017-03-02</th>\n",
       "      <td>1.255812e-06</td>\n",
       "    </tr>\n",
       "    <tr>\n",
       "      <th>2017-07-10</th>\n",
       "      <td>1.122844e-05</td>\n",
       "    </tr>\n",
       "    <tr>\n",
       "      <th>2017-10-26</th>\n",
       "      <td>4.469160e-06</td>\n",
       "    </tr>\n",
       "    <tr>\n",
       "      <th>2018-11-27</th>\n",
       "      <td>2.464438e-06</td>\n",
       "    </tr>\n",
       "    <tr>\n",
       "      <th>2019-03-27</th>\n",
       "      <td>2.068873e-06</td>\n",
       "    </tr>\n",
       "    <tr>\n",
       "      <th>2019-04-30</th>\n",
       "      <td>1.007151e-06</td>\n",
       "    </tr>\n",
       "    <tr>\n",
       "      <th>2019-11-29</th>\n",
       "      <td>1.905591e-07</td>\n",
       "    </tr>\n",
       "    <tr>\n",
       "      <th>2019-12-26</th>\n",
       "      <td>7.225771e-07</td>\n",
       "    </tr>\n",
       "    <tr>\n",
       "      <th>2019-12-31</th>\n",
       "      <td>3.435697e-07</td>\n",
       "    </tr>\n",
       "    <tr>\n",
       "      <th>2020-02-17</th>\n",
       "      <td>1.502547e-05</td>\n",
       "    </tr>\n",
       "    <tr>\n",
       "      <th>2020-03-13</th>\n",
       "      <td>3.221499e-03</td>\n",
       "    </tr>\n",
       "    <tr>\n",
       "      <th>2020-06-03</th>\n",
       "      <td>6.631913e-06</td>\n",
       "    </tr>\n",
       "    <tr>\n",
       "      <th>2021-01-06</th>\n",
       "      <td>5.426514e-06</td>\n",
       "    </tr>\n",
       "  </tbody>\n",
       "</table>\n",
       "</div>"
      ],
      "text/plain": [
       "                   close\n",
       "2015-01-29  2.989735e-05\n",
       "2015-03-03  3.465712e-06\n",
       "2015-03-26  1.650459e-05\n",
       "2015-08-17  9.118860e-07\n",
       "2015-09-29  1.867436e-06\n",
       "2015-11-11  2.094858e-07\n",
       "2015-11-20  6.850363e-06\n",
       "2015-12-28  1.096691e-06\n",
       "2016-03-16  3.313165e-06\n",
       "2016-05-05  1.056181e-05\n",
       "2016-05-13  2.505974e-05\n",
       "2016-10-30  1.172710e-06\n",
       "2016-12-07  1.578889e-05\n",
       "2017-03-02  1.255812e-06\n",
       "2017-07-10  1.122844e-05\n",
       "2017-10-26  4.469160e-06\n",
       "2018-11-27  2.464438e-06\n",
       "2019-03-27  2.068873e-06\n",
       "2019-04-30  1.007151e-06\n",
       "2019-11-29  1.905591e-07\n",
       "2019-12-26  7.225771e-07\n",
       "2019-12-31  3.435697e-07\n",
       "2020-02-17  1.502547e-05\n",
       "2020-03-13  3.221499e-03\n",
       "2020-06-03  6.631913e-06\n",
       "2021-01-06  5.426514e-06"
      ]
     },
     "execution_count": 13,
     "metadata": {},
     "output_type": "execute_result"
    }
   ],
   "source": [
    "def Jvar(series):\n",
    "    series = np.log(series).diff()\n",
    "    series = (realized_variance(series)-bvar(series)).apply(lambda x: 0 if x < 0 else x )\n",
    "    return series\n",
    "df.groupby(df.index.date).agg(Jvar)[df.groupby(df.index.date).agg(Jvar).close>0]"
   ]
  },
  {
   "cell_type": "code",
   "execution_count": 14,
   "id": "painted-rainbow",
   "metadata": {
    "execution": {
     "iopub.execute_input": "2021-08-26T01:30:42.976263Z",
     "iopub.status.busy": "2021-08-26T01:30:42.975588Z",
     "iopub.status.idle": "2021-08-26T01:30:42.978616Z",
     "shell.execute_reply": "2021-08-26T01:30:42.977962Z",
     "shell.execute_reply.started": "2021-08-22T22:38:43.886816Z"
    },
    "papermill": {
     "duration": 0.056757,
     "end_time": "2021-08-26T01:30:42.978772",
     "exception": false,
     "start_time": "2021-08-26T01:30:42.922015",
     "status": "completed"
    },
    "tags": []
   },
   "outputs": [],
   "source": [
    "def Cvar(series):\n",
    "    series = np.log(series).diff()\n",
    "    series = (realized_variance(series)-Jvar(series)).apply(lambda x: 0 if x < 0 else x )\n",
    "    return series"
   ]
  },
  {
   "cell_type": "code",
   "execution_count": 15,
   "id": "legendary-swaziland",
   "metadata": {
    "execution": {
     "iopub.execute_input": "2021-08-26T01:30:43.078298Z",
     "iopub.status.busy": "2021-08-26T01:30:43.077674Z",
     "iopub.status.idle": "2021-08-26T01:30:43.833659Z",
     "shell.execute_reply": "2021-08-26T01:30:43.833062Z",
     "shell.execute_reply.started": "2021-08-16T11:14:02.741618Z"
    },
    "papermill": {
     "duration": 0.807951,
     "end_time": "2021-08-26T01:30:43.833801",
     "exception": false,
     "start_time": "2021-08-26T01:30:43.025850",
     "status": "completed"
    },
    "tags": []
   },
   "outputs": [
    {
     "data": {
      "image/png": "[encoded data removed]",
      "text/plain": [
       "<Figure size 720x720 with 1 Axes>"
      ]
     },
     "metadata": {
      "needs_background": "light"
     },
     "output_type": "display_data"
    }
   ],
   "source": [
    "df.plot(figsize=(10,10))\n",
    "plt.savefig('plot.png')# to save the plot\n",
    "plt.show()"
   ]
  },
  {
   "cell_type": "markdown",
   "id": "senior-indian",
   "metadata": {
    "papermill": {
     "duration": 0.047972,
     "end_time": "2021-08-26T01:30:43.930523",
     "exception": false,
     "start_time": "2021-08-26T01:30:43.882551",
     "status": "completed"
    },
    "tags": []
   },
   "source": [
    "2 Realized volatility estimators"
   ]
  },
  {
   "cell_type": "code",
   "execution_count": 16,
   "id": "intermediate-brooks",
   "metadata": {
    "execution": {
     "iopub.execute_input": "2021-08-26T01:30:44.105238Z",
     "iopub.status.busy": "2021-08-26T01:30:44.078292Z",
     "iopub.status.idle": "2021-08-26T01:30:45.615572Z",
     "shell.execute_reply": "2021-08-26T01:30:45.614983Z",
     "shell.execute_reply.started": "2021-08-26T00:56:07.770574Z"
    },
    "papermill": {
     "duration": 1.636654,
     "end_time": "2021-08-26T01:30:45.615727",
     "exception": false,
     "start_time": "2021-08-26T01:30:43.979073",
     "status": "completed"
    },
    "tags": []
   },
   "outputs": [
    {
     "data": {
      "text/html": [
       "<div>\n",
       "<style scoped>\n",
       "    .dataframe tbody tr th:only-of-type {\n",
       "        vertical-align: middle;\n",
       "    }\n",
       "\n",
       "    .dataframe tbody tr th {\n",
       "        vertical-align: top;\n",
       "    }\n",
       "\n",
       "    .dataframe thead th {\n",
       "        text-align: right;\n",
       "    }\n",
       "</style>\n",
       "<table border=\"1\" class=\"dataframe\">\n",
       "  <thead>\n",
       "    <tr style=\"text-align: right;\">\n",
       "      <th></th>\n",
       "      <th>close</th>\n",
       "    </tr>\n",
       "  </thead>\n",
       "  <tbody>\n",
       "    <tr>\n",
       "      <th>2015-01-09</th>\n",
       "      <td>0.001532</td>\n",
       "    </tr>\n",
       "    <tr>\n",
       "      <th>2015-01-12</th>\n",
       "      <td>0.000634</td>\n",
       "    </tr>\n",
       "    <tr>\n",
       "      <th>2015-01-13</th>\n",
       "      <td>0.000786</td>\n",
       "    </tr>\n",
       "    <tr>\n",
       "      <th>2015-01-14</th>\n",
       "      <td>0.000785</td>\n",
       "    </tr>\n",
       "    <tr>\n",
       "      <th>2015-01-15</th>\n",
       "      <td>0.001013</td>\n",
       "    </tr>\n",
       "    <tr>\n",
       "      <th>...</th>\n",
       "      <td>...</td>\n",
       "    </tr>\n",
       "    <tr>\n",
       "      <th>2021-03-19</th>\n",
       "      <td>0.001101</td>\n",
       "    </tr>\n",
       "    <tr>\n",
       "      <th>2021-03-22</th>\n",
       "      <td>0.000629</td>\n",
       "    </tr>\n",
       "    <tr>\n",
       "      <th>2021-03-23</th>\n",
       "      <td>0.001223</td>\n",
       "    </tr>\n",
       "    <tr>\n",
       "      <th>2021-03-24</th>\n",
       "      <td>0.001202</td>\n",
       "    </tr>\n",
       "    <tr>\n",
       "      <th>2021-03-25</th>\n",
       "      <td>0.001301</td>\n",
       "    </tr>\n",
       "  </tbody>\n",
       "</table>\n",
       "<p>1537 rows × 1 columns</p>\n",
       "</div>"
      ],
      "text/plain": [
       "               close\n",
       "2015-01-09  0.001532\n",
       "2015-01-12  0.000634\n",
       "2015-01-13  0.000786\n",
       "2015-01-14  0.000785\n",
       "2015-01-15  0.001013\n",
       "...              ...\n",
       "2021-03-19  0.001101\n",
       "2021-03-22  0.000629\n",
       "2021-03-23  0.001223\n",
       "2021-03-24  0.001202\n",
       "2021-03-25  0.001301\n",
       "\n",
       "[1537 rows x 1 columns]"
      ]
     },
     "execution_count": 16,
     "metadata": {},
     "output_type": "execute_result"
    }
   ],
   "source": [
    "def realized_1(series):\n",
    "    series = np.log(series).diff()\n",
    "    return np.sqrt(np.sum(series**4)/(6*np.sum(series**2)))\n",
    "df.groupby(df.index.date).agg(realized_1)"
   ]
  },
  {
   "cell_type": "code",
   "execution_count": 17,
   "id": "processed-affairs",
   "metadata": {
    "execution": {
     "iopub.execute_input": "2021-08-26T01:30:45.806146Z",
     "iopub.status.busy": "2021-08-26T01:30:45.779409Z",
     "iopub.status.idle": "2021-08-26T01:30:48.629500Z",
     "shell.execute_reply": "2021-08-26T01:30:48.628855Z",
     "shell.execute_reply.started": "2021-08-26T01:23:27.841743Z"
    },
    "papermill": {
     "duration": 2.963779,
     "end_time": "2021-08-26T01:30:48.629664",
     "exception": false,
     "start_time": "2021-08-26T01:30:45.665885",
     "status": "completed"
    },
    "tags": []
   },
   "outputs": [
    {
     "data": {
      "text/html": [
       "<div>\n",
       "<style scoped>\n",
       "    .dataframe tbody tr th:only-of-type {\n",
       "        vertical-align: middle;\n",
       "    }\n",
       "\n",
       "    .dataframe tbody tr th {\n",
       "        vertical-align: top;\n",
       "    }\n",
       "\n",
       "    .dataframe thead th {\n",
       "        text-align: right;\n",
       "    }\n",
       "</style>\n",
       "<table border=\"1\" class=\"dataframe\">\n",
       "  <thead>\n",
       "    <tr style=\"text-align: right;\">\n",
       "      <th></th>\n",
       "      <th>close</th>\n",
       "    </tr>\n",
       "  </thead>\n",
       "  <tbody>\n",
       "    <tr>\n",
       "      <th>2015-01-09</th>\n",
       "      <td>0.000651</td>\n",
       "    </tr>\n",
       "    <tr>\n",
       "      <th>2015-01-12</th>\n",
       "      <td>0.000489</td>\n",
       "    </tr>\n",
       "    <tr>\n",
       "      <th>2015-01-13</th>\n",
       "      <td>0.000428</td>\n",
       "    </tr>\n",
       "    <tr>\n",
       "      <th>2015-01-14</th>\n",
       "      <td>0.000526</td>\n",
       "    </tr>\n",
       "    <tr>\n",
       "      <th>2015-01-15</th>\n",
       "      <td>0.000525</td>\n",
       "    </tr>\n",
       "    <tr>\n",
       "      <th>...</th>\n",
       "      <td>...</td>\n",
       "    </tr>\n",
       "    <tr>\n",
       "      <th>2021-03-19</th>\n",
       "      <td>0.000696</td>\n",
       "    </tr>\n",
       "    <tr>\n",
       "      <th>2021-03-22</th>\n",
       "      <td>0.000789</td>\n",
       "    </tr>\n",
       "    <tr>\n",
       "      <th>2021-03-23</th>\n",
       "      <td>0.000868</td>\n",
       "    </tr>\n",
       "    <tr>\n",
       "      <th>2021-03-24</th>\n",
       "      <td>0.000793</td>\n",
       "    </tr>\n",
       "    <tr>\n",
       "      <th>2021-03-25</th>\n",
       "      <td>0.001237</td>\n",
       "    </tr>\n",
       "  </tbody>\n",
       "</table>\n",
       "<p>1537 rows × 1 columns</p>\n",
       "</div>"
      ],
      "text/plain": [
       "               close\n",
       "2015-01-09  0.000651\n",
       "2015-01-12  0.000489\n",
       "2015-01-13  0.000428\n",
       "2015-01-14  0.000526\n",
       "2015-01-15  0.000525\n",
       "...              ...\n",
       "2021-03-19  0.000696\n",
       "2021-03-22  0.000789\n",
       "2021-03-23  0.000868\n",
       "2021-03-24  0.000793\n",
       "2021-03-25  0.001237\n",
       "\n",
       "[1537 rows x 1 columns]"
      ]
     },
     "execution_count": 17,
     "metadata": {},
     "output_type": "execute_result"
    }
   ],
   "source": [
    "def realized_2(series):\n",
    "    series = np.log(series).diff()\n",
    "    return np.sqrt(((np.pi**2)*np.sum(abs(series.rolling(window=4).apply(np.product, raw=True))))/(8*np.sum(series**2)))\n",
    "df.groupby(df.index.date).agg(realized_2)"
   ]
  },
  {
   "cell_type": "code",
   "execution_count": 18,
   "id": "demonstrated-evans",
   "metadata": {
    "execution": {
     "iopub.execute_input": "2021-08-26T01:30:48.746245Z",
     "iopub.status.busy": "2021-08-26T01:30:48.745405Z",
     "iopub.status.idle": "2021-08-26T01:30:48.749127Z",
     "shell.execute_reply": "2021-08-26T01:30:48.749675Z",
     "shell.execute_reply.started": "2021-08-26T01:19:11.711691Z"
    },
    "papermill": {
     "duration": 0.066418,
     "end_time": "2021-08-26T01:30:48.749851",
     "exception": false,
     "start_time": "2021-08-26T01:30:48.683433",
     "status": "completed"
    },
    "tags": []
   },
   "outputs": [
    {
     "data": {
      "text/html": [
       "<div>\n",
       "<style scoped>\n",
       "    .dataframe tbody tr th:only-of-type {\n",
       "        vertical-align: middle;\n",
       "    }\n",
       "\n",
       "    .dataframe tbody tr th {\n",
       "        vertical-align: top;\n",
       "    }\n",
       "\n",
       "    .dataframe thead th {\n",
       "        text-align: right;\n",
       "    }\n",
       "</style>\n",
       "<table border=\"1\" class=\"dataframe\">\n",
       "  <thead>\n",
       "    <tr style=\"text-align: right;\">\n",
       "      <th></th>\n",
       "      <th>close</th>\n",
       "    </tr>\n",
       "    <tr>\n",
       "      <th>date</th>\n",
       "      <th></th>\n",
       "    </tr>\n",
       "  </thead>\n",
       "  <tbody>\n",
       "    <tr>\n",
       "      <th>2015-01-09 09:15:00</th>\n",
       "      <td>8301.20</td>\n",
       "    </tr>\n",
       "    <tr>\n",
       "      <th>2015-01-09 09:20:00</th>\n",
       "      <td>8301.00</td>\n",
       "    </tr>\n",
       "    <tr>\n",
       "      <th>2015-01-09 09:25:00</th>\n",
       "      <td>8294.15</td>\n",
       "    </tr>\n",
       "    <tr>\n",
       "      <th>2015-01-09 09:30:00</th>\n",
       "      <td>8288.50</td>\n",
       "    </tr>\n",
       "    <tr>\n",
       "      <th>2015-01-09 09:35:00</th>\n",
       "      <td>8283.45</td>\n",
       "    </tr>\n",
       "    <tr>\n",
       "      <th>...</th>\n",
       "      <td>...</td>\n",
       "    </tr>\n",
       "    <tr>\n",
       "      <th>2021-03-25 15:05:00</th>\n",
       "      <td>14319.05</td>\n",
       "    </tr>\n",
       "    <tr>\n",
       "      <th>2021-03-25 15:10:00</th>\n",
       "      <td>14299.00</td>\n",
       "    </tr>\n",
       "    <tr>\n",
       "      <th>2021-03-25 15:15:00</th>\n",
       "      <td>14299.75</td>\n",
       "    </tr>\n",
       "    <tr>\n",
       "      <th>2021-03-25 15:20:00</th>\n",
       "      <td>14314.95</td>\n",
       "    </tr>\n",
       "    <tr>\n",
       "      <th>2021-03-25 15:25:00</th>\n",
       "      <td>14346.40</td>\n",
       "    </tr>\n",
       "  </tbody>\n",
       "</table>\n",
       "<p>114830 rows × 1 columns</p>\n",
       "</div>"
      ],
      "text/plain": [
       "                        close\n",
       "date                         \n",
       "2015-01-09 09:15:00   8301.20\n",
       "2015-01-09 09:20:00   8301.00\n",
       "2015-01-09 09:25:00   8294.15\n",
       "2015-01-09 09:30:00   8288.50\n",
       "2015-01-09 09:35:00   8283.45\n",
       "...                       ...\n",
       "2021-03-25 15:05:00  14319.05\n",
       "2021-03-25 15:10:00  14299.00\n",
       "2021-03-25 15:15:00  14299.75\n",
       "2021-03-25 15:20:00  14314.95\n",
       "2021-03-25 15:25:00  14346.40\n",
       "\n",
       "[114830 rows x 1 columns]"
      ]
     },
     "execution_count": 18,
     "metadata": {},
     "output_type": "execute_result"
    }
   ],
   "source": [
    "df"
   ]
  },
  {
   "cell_type": "code",
   "execution_count": 19,
   "id": "essential-request",
   "metadata": {
    "execution": {
     "iopub.execute_input": "2021-08-26T01:30:48.930504Z",
     "iopub.status.busy": "2021-08-26T01:30:48.858766Z",
     "iopub.status.idle": "2021-08-26T01:31:11.181252Z",
     "shell.execute_reply": "2021-08-26T01:31:11.181829Z",
     "shell.execute_reply.started": "2021-08-26T01:24:40.578117Z"
    },
    "papermill": {
     "duration": 22.379304,
     "end_time": "2021-08-26T01:31:11.182019",
     "exception": false,
     "start_time": "2021-08-26T01:30:48.802715",
     "status": "completed"
    },
    "tags": []
   },
   "outputs": [
    {
     "data": {
      "text/html": [
       "<div>\n",
       "<style scoped>\n",
       "    .dataframe tbody tr th:only-of-type {\n",
       "        vertical-align: middle;\n",
       "    }\n",
       "\n",
       "    .dataframe tbody tr th {\n",
       "        vertical-align: top;\n",
       "    }\n",
       "\n",
       "    .dataframe thead th {\n",
       "        text-align: right;\n",
       "    }\n",
       "</style>\n",
       "<table border=\"1\" class=\"dataframe\">\n",
       "  <thead>\n",
       "    <tr style=\"text-align: right;\">\n",
       "      <th></th>\n",
       "      <th>close</th>\n",
       "    </tr>\n",
       "  </thead>\n",
       "  <tbody>\n",
       "    <tr>\n",
       "      <th>2015-01-09</th>\n",
       "      <td>0.000603</td>\n",
       "    </tr>\n",
       "    <tr>\n",
       "      <th>2015-01-12</th>\n",
       "      <td>0.000500</td>\n",
       "    </tr>\n",
       "    <tr>\n",
       "      <th>2015-01-13</th>\n",
       "      <td>0.000479</td>\n",
       "    </tr>\n",
       "    <tr>\n",
       "      <th>2015-01-14</th>\n",
       "      <td>0.000547</td>\n",
       "    </tr>\n",
       "    <tr>\n",
       "      <th>2015-01-15</th>\n",
       "      <td>0.000646</td>\n",
       "    </tr>\n",
       "    <tr>\n",
       "      <th>...</th>\n",
       "      <td>...</td>\n",
       "    </tr>\n",
       "    <tr>\n",
       "      <th>2021-03-19</th>\n",
       "      <td>0.000831</td>\n",
       "    </tr>\n",
       "    <tr>\n",
       "      <th>2021-03-22</th>\n",
       "      <td>0.000749</td>\n",
       "    </tr>\n",
       "    <tr>\n",
       "      <th>2021-03-23</th>\n",
       "      <td>0.000821</td>\n",
       "    </tr>\n",
       "    <tr>\n",
       "      <th>2021-03-24</th>\n",
       "      <td>0.000745</td>\n",
       "    </tr>\n",
       "    <tr>\n",
       "      <th>2021-03-25</th>\n",
       "      <td>0.001188</td>\n",
       "    </tr>\n",
       "  </tbody>\n",
       "</table>\n",
       "<p>1537 rows × 1 columns</p>\n",
       "</div>"
      ],
      "text/plain": [
       "               close\n",
       "2015-01-09  0.000603\n",
       "2015-01-12  0.000500\n",
       "2015-01-13  0.000479\n",
       "2015-01-14  0.000547\n",
       "2015-01-15  0.000646\n",
       "...              ...\n",
       "2021-03-19  0.000831\n",
       "2021-03-22  0.000749\n",
       "2021-03-23  0.000821\n",
       "2021-03-24  0.000745\n",
       "2021-03-25  0.001188\n",
       "\n",
       "[1537 rows x 1 columns]"
      ]
     },
     "execution_count": 19,
     "metadata": {},
     "output_type": "execute_result"
    }
   ],
   "source": [
    "def realized_3(series):\n",
    "    series = np.log(series).diff()\n",
    "    numerator = (gamma(1/2)**3)*np.sum((abs(series)**(4/3)).rolling(window=3).apply(np.prod))\n",
    "    denominator = 8 * (gamma(7/6)**3)*np.sum(series**2)\n",
    "    return np.sqrt(numerator/denominator)\n",
    "df.groupby(df.index.date).agg(realized_3)"
   ]
  },
  {
   "cell_type": "markdown",
   "id": "temporal-desktop",
   "metadata": {
    "papermill": {
     "duration": 0.049718,
     "end_time": "2021-08-26T01:31:11.286713",
     "exception": false,
     "start_time": "2021-08-26T01:31:11.236995",
     "status": "completed"
    },
    "tags": []
   },
   "source": [
    "<a id='daily'></a>\n",
    "# Daily close price data\n",
    "\n",
    "In this section we analyse the daily close price for the stock index"
   ]
  },
  {
   "cell_type": "code",
   "execution_count": 20,
   "id": "hungarian-forestry",
   "metadata": {
    "execution": {
     "iopub.execute_input": "2021-08-26T01:31:11.392201Z",
     "iopub.status.busy": "2021-08-26T01:31:11.391363Z",
     "iopub.status.idle": "2021-08-26T01:31:11.424798Z",
     "shell.execute_reply": "2021-08-26T01:31:11.424127Z",
     "shell.execute_reply.started": "2021-08-16T10:03:31.418039Z"
    },
    "papermill": {
     "duration": 0.088052,
     "end_time": "2021-08-26T01:31:11.424936",
     "exception": false,
     "start_time": "2021-08-26T01:31:11.336884",
     "status": "completed"
    },
    "tags": []
   },
   "outputs": [
    {
     "data": {
      "text/html": [
       "<div>\n",
       "<style scoped>\n",
       "    .dataframe tbody tr th:only-of-type {\n",
       "        vertical-align: middle;\n",
       "    }\n",
       "\n",
       "    .dataframe tbody tr th {\n",
       "        vertical-align: top;\n",
       "    }\n",
       "\n",
       "    .dataframe thead th {\n",
       "        text-align: right;\n",
       "    }\n",
       "</style>\n",
       "<table border=\"1\" class=\"dataframe\">\n",
       "  <thead>\n",
       "    <tr style=\"text-align: right;\">\n",
       "      <th></th>\n",
       "      <th>close</th>\n",
       "    </tr>\n",
       "    <tr>\n",
       "      <th>date</th>\n",
       "      <th></th>\n",
       "    </tr>\n",
       "  </thead>\n",
       "  <tbody>\n",
       "    <tr>\n",
       "      <th>2015-01-09 15:25:00</th>\n",
       "      <td>8280.25</td>\n",
       "    </tr>\n",
       "    <tr>\n",
       "      <th>2015-01-12 15:25:00</th>\n",
       "      <td>8326.55</td>\n",
       "    </tr>\n",
       "  </tbody>\n",
       "</table>\n",
       "</div>"
      ],
      "text/plain": [
       "                       close\n",
       "date                        \n",
       "2015-01-09 15:25:00  8280.25\n",
       "2015-01-12 15:25:00  8326.55"
      ]
     },
     "execution_count": 20,
     "metadata": {},
     "output_type": "execute_result"
    }
   ],
   "source": [
    "data = df[(df.index.minute==25)&(df.index.hour==15)]\n",
    "data.head(2)"
   ]
  },
  {
   "cell_type": "markdown",
   "id": "academic-participation",
   "metadata": {
    "papermill": {
     "duration": 0.050304,
     "end_time": "2021-08-26T01:31:11.525958",
     "exception": false,
     "start_time": "2021-08-26T01:31:11.475654",
     "status": "completed"
    },
    "tags": []
   },
   "source": [
    "## Stationarity Analysis\n",
    "\n",
    "Price data"
   ]
  },
  {
   "cell_type": "code",
   "execution_count": 21,
   "id": "brazilian-annotation",
   "metadata": {
    "execution": {
     "iopub.execute_input": "2021-08-26T01:31:11.655282Z",
     "iopub.status.busy": "2021-08-26T01:31:11.654613Z",
     "iopub.status.idle": "2021-08-26T01:31:11.916328Z",
     "shell.execute_reply": "2021-08-26T01:31:11.915779Z",
     "shell.execute_reply.started": "2021-08-16T09:52:03.649365Z"
    },
    "papermill": {
     "duration": 0.340082,
     "end_time": "2021-08-26T01:31:11.916481",
     "exception": false,
     "start_time": "2021-08-26T01:31:11.576399",
     "status": "completed"
    },
    "tags": []
   },
   "outputs": [
    {
     "data": {
      "image/png": "[encoded data removed]",
      "text/plain": [
       "<Figure size 432x288 with 1 Axes>"
      ]
     },
     "metadata": {
      "needs_background": "light"
     },
     "output_type": "display_data"
    }
   ],
   "source": [
    "plot_acf(data['close'])\n",
    "plt.savefig('acf.png')\n",
    "plt.show()"
   ]
  },
  {
   "cell_type": "code",
   "execution_count": 22,
   "id": "color-freight",
   "metadata": {
    "execution": {
     "iopub.execute_input": "2021-08-26T01:31:12.046569Z",
     "iopub.status.busy": "2021-08-26T01:31:12.042734Z",
     "iopub.status.idle": "2021-08-26T01:31:12.310705Z",
     "shell.execute_reply": "2021-08-26T01:31:12.310057Z",
     "shell.execute_reply.started": "2021-08-16T09:52:06.807543Z"
    },
    "papermill": {
     "duration": 0.342559,
     "end_time": "2021-08-26T01:31:12.310855",
     "exception": false,
     "start_time": "2021-08-26T01:31:11.968296",
     "status": "completed"
    },
    "tags": []
   },
   "outputs": [
    {
     "data": {
      "image/png": "[encoded data removed]",
      "text/plain": [
       "<Figure size 432x288 with 1 Axes>"
      ]
     },
     "metadata": {
      "needs_background": "light"
     },
     "output_type": "display_data"
    }
   ],
   "source": [
    "plot_pacf(data['close'])\n",
    "plt.savefig('pacf.png')\n",
    "plt.show()"
   ]
  },
  {
   "cell_type": "markdown",
   "id": "enclosed-terminal",
   "metadata": {
    "papermill": {
     "duration": 0.052056,
     "end_time": "2021-08-26T01:31:12.415080",
     "exception": false,
     "start_time": "2021-08-26T01:31:12.363024",
     "status": "completed"
    },
    "tags": []
   },
   "source": [
    "Simple returns"
   ]
  },
  {
   "cell_type": "code",
   "execution_count": 23,
   "id": "alternate-brazil",
   "metadata": {
    "execution": {
     "iopub.execute_input": "2021-08-26T01:31:12.525705Z",
     "iopub.status.busy": "2021-08-26T01:31:12.525017Z",
     "iopub.status.idle": "2021-08-26T01:31:12.532228Z",
     "shell.execute_reply": "2021-08-26T01:31:12.531576Z",
     "shell.execute_reply.started": "2021-08-16T10:03:40.718634Z"
    },
    "papermill": {
     "duration": 0.0651,
     "end_time": "2021-08-26T01:31:12.532369",
     "exception": false,
     "start_time": "2021-08-26T01:31:12.467269",
     "status": "completed"
    },
    "tags": []
   },
   "outputs": [],
   "source": [
    "data['simple_returns'] = data.close.pct_change()"
   ]
  },
  {
   "cell_type": "code",
   "execution_count": 24,
   "id": "dynamic-framing",
   "metadata": {
    "execution": {
     "iopub.execute_input": "2021-08-26T01:31:12.673347Z",
     "iopub.status.busy": "2021-08-26T01:31:12.665033Z",
     "iopub.status.idle": "2021-08-26T01:31:12.927090Z",
     "shell.execute_reply": "2021-08-26T01:31:12.926126Z",
     "shell.execute_reply.started": "2021-08-16T09:55:05.057576Z"
    },
    "papermill": {
     "duration": 0.342865,
     "end_time": "2021-08-26T01:31:12.927233",
     "exception": false,
     "start_time": "2021-08-26T01:31:12.584368",
     "status": "completed"
    },
    "tags": []
   },
   "outputs": [
    {
     "data": {
      "image/png": "[encoded data removed]",
      "text/plain": [
       "<Figure size 432x288 with 1 Axes>"
      ]
     },
     "metadata": {
      "needs_background": "light"
     },
     "output_type": "display_data"
    }
   ],
   "source": [
    "plot_pacf(data.close.pct_change().dropna())\n",
    "plt.savefig('dacf.png')\n",
    "plt.show()"
   ]
  },
  {
   "cell_type": "code",
   "execution_count": 25,
   "id": "arranged-impact",
   "metadata": {
    "execution": {
     "iopub.execute_input": "2021-08-26T01:31:13.040102Z",
     "iopub.status.busy": "2021-08-26T01:31:13.039461Z",
     "iopub.status.idle": "2021-08-26T01:31:13.315859Z",
     "shell.execute_reply": "2021-08-26T01:31:13.316337Z",
     "shell.execute_reply.started": "2021-08-16T09:53:48.699443Z"
    },
    "papermill": {
     "duration": 0.336241,
     "end_time": "2021-08-26T01:31:13.316522",
     "exception": false,
     "start_time": "2021-08-26T01:31:12.980281",
     "status": "completed"
    },
    "tags": []
   },
   "outputs": [
    {
     "data": {
      "image/png": "[encoded data removed]",
      "text/plain": [
       "<Figure size 432x288 with 1 Axes>"
      ]
     },
     "metadata": {
      "needs_background": "light"
     },
     "output_type": "display_data"
    }
   ],
   "source": [
    "plot_pacf(data.close.pct_change().dropna())\n",
    "plt.savefig('dacf.png')\n",
    "plt.show()"
   ]
  },
  {
   "cell_type": "markdown",
   "id": "compressed-jacob",
   "metadata": {
    "papermill": {
     "duration": 0.054948,
     "end_time": "2021-08-26T01:31:13.425284",
     "exception": false,
     "start_time": "2021-08-26T01:31:13.370336",
     "status": "completed"
    },
    "tags": []
   },
   "source": [
    "Log-return data\n"
   ]
  },
  {
   "cell_type": "code",
   "execution_count": 26,
   "id": "dominant-lobby",
   "metadata": {
    "execution": {
     "iopub.execute_input": "2021-08-26T01:31:13.536002Z",
     "iopub.status.busy": "2021-08-26T01:31:13.535362Z",
     "iopub.status.idle": "2021-08-26T01:31:13.539137Z",
     "shell.execute_reply": "2021-08-26T01:31:13.539661Z",
     "shell.execute_reply.started": "2021-08-16T10:03:44.029525Z"
    },
    "papermill": {
     "duration": 0.060876,
     "end_time": "2021-08-26T01:31:13.539835",
     "exception": false,
     "start_time": "2021-08-26T01:31:13.478959",
     "status": "completed"
    },
    "tags": []
   },
   "outputs": [],
   "source": [
    "def log_return(list_stock_prices):\n",
    "    return np.log(list_stock_prices).diff() "
   ]
  },
  {
   "cell_type": "code",
   "execution_count": 27,
   "id": "incomplete-flash",
   "metadata": {
    "execution": {
     "iopub.execute_input": "2021-08-26T01:31:13.650304Z",
     "iopub.status.busy": "2021-08-26T01:31:13.649676Z",
     "iopub.status.idle": "2021-08-26T01:31:13.655991Z",
     "shell.execute_reply": "2021-08-26T01:31:13.655366Z",
     "shell.execute_reply.started": "2021-08-16T10:03:46.500081Z"
    },
    "papermill": {
     "duration": 0.062583,
     "end_time": "2021-08-26T01:31:13.656125",
     "exception": false,
     "start_time": "2021-08-26T01:31:13.593542",
     "status": "completed"
    },
    "tags": []
   },
   "outputs": [],
   "source": [
    "data['log_return'] = log_return(data.close)"
   ]
  },
  {
   "cell_type": "code",
   "execution_count": 28,
   "id": "proper-aluminum",
   "metadata": {
    "execution": {
     "iopub.execute_input": "2021-08-26T01:31:13.786965Z",
     "iopub.status.busy": "2021-08-26T01:31:13.786277Z",
     "iopub.status.idle": "2021-08-26T01:31:14.053239Z",
     "shell.execute_reply": "2021-08-26T01:31:14.052693Z",
     "shell.execute_reply.started": "2021-08-16T09:52:55.436562Z"
    },
    "papermill": {
     "duration": 0.343514,
     "end_time": "2021-08-26T01:31:14.053387",
     "exception": false,
     "start_time": "2021-08-26T01:31:13.709873",
     "status": "completed"
    },
    "tags": []
   },
   "outputs": [
    {
     "data": {
      "image/png": "[encoded data removed]",
      "text/plain": [
       "<Figure size 432x288 with 1 Axes>"
      ]
     },
     "metadata": {
      "needs_background": "light"
     },
     "output_type": "display_data"
    }
   ],
   "source": [
    "plot_pacf(data['log_return'].dropna())\n",
    "plt.savefig('dacf.png')\n",
    "plt.show()"
   ]
  },
  {
   "cell_type": "code",
   "execution_count": 29,
   "id": "funded-surface",
   "metadata": {
    "execution": {
     "iopub.execute_input": "2021-08-26T01:31:14.165435Z",
     "iopub.status.busy": "2021-08-26T01:31:14.164780Z",
     "iopub.status.idle": "2021-08-26T01:31:14.442469Z",
     "shell.execute_reply": "2021-08-26T01:31:14.441686Z",
     "shell.execute_reply.started": "2021-08-16T09:52:57.922118Z"
    },
    "papermill": {
     "duration": 0.334884,
     "end_time": "2021-08-26T01:31:14.442678",
     "exception": false,
     "start_time": "2021-08-26T01:31:14.107794",
     "status": "completed"
    },
    "tags": []
   },
   "outputs": [
    {
     "data": {
      "image/png": "[encoded data removed]",
      "text/plain": [
       "<Figure size 432x288 with 1 Axes>"
      ]
     },
     "metadata": {
      "needs_background": "light"
     },
     "output_type": "display_data"
    }
   ],
   "source": [
    "plot_acf(data['log_return'].dropna())\n",
    "plt.savefig('dpacf.png')\n",
    "plt.show()"
   ]
  },
  {
   "cell_type": "code",
   "execution_count": 30,
   "id": "acting-warrior",
   "metadata": {
    "execution": {
     "iopub.execute_input": "2021-08-26T01:31:14.601629Z",
     "iopub.status.busy": "2021-08-26T01:31:14.597246Z",
     "iopub.status.idle": "2021-08-26T01:31:14.867616Z",
     "shell.execute_reply": "2021-08-26T01:31:14.866810Z",
     "shell.execute_reply.started": "2021-08-16T09:53:01.525335Z"
    },
    "papermill": {
     "duration": 0.357997,
     "end_time": "2021-08-26T01:31:14.867774",
     "exception": false,
     "start_time": "2021-08-26T01:31:14.509777",
     "status": "completed"
    },
    "tags": []
   },
   "outputs": [
    {
     "data": {
      "image/png": "[encoded data removed]",
      "text/plain": [
       "<Figure size 720x720 with 1 Axes>"
      ]
     },
     "metadata": {
      "needs_background": "light"
     },
     "output_type": "display_data"
    }
   ],
   "source": [
    "data.log_return.plot(figsize=(10,10))\n",
    "plt.savefig('log.png')\n",
    "plt.show()"
   ]
  },
  {
   "cell_type": "code",
   "execution_count": 31,
   "id": "hollow-devices",
   "metadata": {
    "execution": {
     "iopub.execute_input": "2021-08-26T01:31:14.989234Z",
     "iopub.status.busy": "2021-08-26T01:31:14.987381Z",
     "iopub.status.idle": "2021-08-26T01:31:15.011090Z",
     "shell.execute_reply": "2021-08-26T01:31:15.010470Z",
     "shell.execute_reply.started": "2021-08-16T10:09:17.83589Z"
    },
    "papermill": {
     "duration": 0.086255,
     "end_time": "2021-08-26T01:31:15.011252",
     "exception": false,
     "start_time": "2021-08-26T01:31:14.924997",
     "status": "completed"
    },
    "tags": []
   },
   "outputs": [
    {
     "data": {
      "text/html": [
       "<div>\n",
       "<style scoped>\n",
       "    .dataframe tbody tr th:only-of-type {\n",
       "        vertical-align: middle;\n",
       "    }\n",
       "\n",
       "    .dataframe tbody tr th {\n",
       "        vertical-align: top;\n",
       "    }\n",
       "\n",
       "    .dataframe thead th {\n",
       "        text-align: right;\n",
       "    }\n",
       "</style>\n",
       "<table border=\"1\" class=\"dataframe\">\n",
       "  <thead>\n",
       "    <tr style=\"text-align: right;\">\n",
       "      <th></th>\n",
       "      <th>close</th>\n",
       "      <th>simple_returns</th>\n",
       "      <th>log_return</th>\n",
       "    </tr>\n",
       "  </thead>\n",
       "  <tbody>\n",
       "    <tr>\n",
       "      <th>count</th>\n",
       "      <td>1530.000000</td>\n",
       "      <td>1529.000000</td>\n",
       "      <td>1529.000000</td>\n",
       "    </tr>\n",
       "    <tr>\n",
       "      <th>mean</th>\n",
       "      <td>10070.858595</td>\n",
       "      <td>0.000424</td>\n",
       "      <td>0.000359</td>\n",
       "    </tr>\n",
       "    <tr>\n",
       "      <th>std</th>\n",
       "      <td>1741.739834</td>\n",
       "      <td>0.011285</td>\n",
       "      <td>0.011372</td>\n",
       "    </tr>\n",
       "    <tr>\n",
       "      <th>min</th>\n",
       "      <td>6970.550000</td>\n",
       "      <td>-0.126676</td>\n",
       "      <td>-0.135449</td>\n",
       "    </tr>\n",
       "    <tr>\n",
       "      <th>25%</th>\n",
       "      <td>8547.312500</td>\n",
       "      <td>-0.004681</td>\n",
       "      <td>-0.004692</td>\n",
       "    </tr>\n",
       "    <tr>\n",
       "      <th>50%</th>\n",
       "      <td>10183.950000</td>\n",
       "      <td>0.000644</td>\n",
       "      <td>0.000643</td>\n",
       "    </tr>\n",
       "    <tr>\n",
       "      <th>75%</th>\n",
       "      <td>11239.287500</td>\n",
       "      <td>0.006191</td>\n",
       "      <td>0.006172</td>\n",
       "    </tr>\n",
       "    <tr>\n",
       "      <th>max</th>\n",
       "      <td>15335.800000</td>\n",
       "      <td>0.083002</td>\n",
       "      <td>0.079737</td>\n",
       "    </tr>\n",
       "  </tbody>\n",
       "</table>\n",
       "</div>"
      ],
      "text/plain": [
       "              close  simple_returns   log_return\n",
       "count   1530.000000     1529.000000  1529.000000\n",
       "mean   10070.858595        0.000424     0.000359\n",
       "std     1741.739834        0.011285     0.011372\n",
       "min     6970.550000       -0.126676    -0.135449\n",
       "25%     8547.312500       -0.004681    -0.004692\n",
       "50%    10183.950000        0.000644     0.000643\n",
       "75%    11239.287500        0.006191     0.006172\n",
       "max    15335.800000        0.083002     0.079737"
      ]
     },
     "execution_count": 31,
     "metadata": {},
     "output_type": "execute_result"
    }
   ],
   "source": [
    "data.describe()"
   ]
  },
  {
   "cell_type": "markdown",
   "id": "designing-distinction",
   "metadata": {
    "papermill": {
     "duration": 0.056988,
     "end_time": "2021-08-26T01:31:15.125892",
     "exception": false,
     "start_time": "2021-08-26T01:31:15.068904",
     "status": "completed"
    },
    "tags": []
   },
   "source": [
    "### Augmented Dickey-Fuller Unit root test\n",
    "Price data"
   ]
  },
  {
   "cell_type": "code",
   "execution_count": 32,
   "id": "continental-russell",
   "metadata": {
    "execution": {
     "iopub.execute_input": "2021-08-26T01:31:15.248268Z",
     "iopub.status.busy": "2021-08-26T01:31:15.247589Z",
     "iopub.status.idle": "2021-08-26T01:31:15.345119Z",
     "shell.execute_reply": "2021-08-26T01:31:15.346079Z",
     "shell.execute_reply.started": "2021-08-13T02:45:16.1987Z"
    },
    "papermill": {
     "duration": 0.161719,
     "end_time": "2021-08-26T01:31:15.346373",
     "exception": false,
     "start_time": "2021-08-26T01:31:15.184654",
     "status": "completed"
    },
    "tags": []
   },
   "outputs": [
    {
     "name": "stdout",
     "output_type": "stream",
     "text": [
      "ADF Statistic: -2.8408712833075223\n",
      "p-value: 0.18233808345738017\n",
      "n_lags: 12\n",
      "Critial Values:\n",
      "   1%, -3.964750156831415\n",
      "   5%, -3.413388072649871\n",
      "   10%, -3.1287561285882832\n",
      "t_stat: 18459.56211599055\n"
     ]
    }
   ],
   "source": [
    "res_ADF = adfuller(data.close, regression='ct')\n",
    "print(f'ADF Statistic: {res_ADF[0]}')\n",
    "print(f'p-value: {res_ADF[1]}')\n",
    "print(f'n_lags: {res_ADF[2]}')\n",
    "print('Critial Values:')\n",
    "\n",
    "for key, value in res_ADF[4].items():\n",
    "    print(f'   {key}, {value}')  \n",
    "    \n",
    "print(f't_stat: {res_ADF[5]}')"
   ]
  },
  {
   "cell_type": "markdown",
   "id": "allied-tsunami",
   "metadata": {
    "papermill": {
     "duration": 0.066057,
     "end_time": "2021-08-26T01:31:15.514194",
     "exception": false,
     "start_time": "2021-08-26T01:31:15.448137",
     "status": "completed"
    },
    "tags": []
   },
   "source": [
    "Can not reject null of unit root for price data.  Evidence for non-stationarity of log-returns."
   ]
  },
  {
   "cell_type": "markdown",
   "id": "progressive-paragraph",
   "metadata": {
    "papermill": {
     "duration": 0.056928,
     "end_time": "2021-08-26T01:31:15.628969",
     "exception": false,
     "start_time": "2021-08-26T01:31:15.572041",
     "status": "completed"
    },
    "tags": []
   },
   "source": [
    "### Log-returns"
   ]
  },
  {
   "cell_type": "code",
   "execution_count": 33,
   "id": "comprehensive-lancaster",
   "metadata": {
    "execution": {
     "iopub.execute_input": "2021-08-26T01:31:15.750187Z",
     "iopub.status.busy": "2021-08-26T01:31:15.749557Z",
     "iopub.status.idle": "2021-08-26T01:31:15.829643Z",
     "shell.execute_reply": "2021-08-26T01:31:15.830552Z",
     "shell.execute_reply.started": "2021-08-13T02:45:16.282695Z"
    },
    "papermill": {
     "duration": 0.144714,
     "end_time": "2021-08-26T01:31:15.830874",
     "exception": false,
     "start_time": "2021-08-26T01:31:15.686160",
     "status": "completed"
    },
    "tags": []
   },
   "outputs": [
    {
     "name": "stdout",
     "output_type": "stream",
     "text": [
      "ADF Statistic: -10.340668190824559\n",
      "p-value: 2.6905223053837474e-18\n",
      "n_lags: 11\n",
      "Critial Values:\n",
      "   1%, -3.434667995897907\n",
      "   5%, -2.863447124874016\n",
      "   10%, -2.5677853274099864\n",
      "t_stat: -9237.660526023014\n"
     ]
    }
   ],
   "source": [
    "res_ADF = adfuller(data.log_return.dropna(), regression='c')\n",
    "print(f'ADF Statistic: {res_ADF[0]}')\n",
    "print(f'p-value: {res_ADF[1]}')\n",
    "print(f'n_lags: {res_ADF[2]}')\n",
    "print('Critial Values:')\n",
    "\n",
    "for key, value in res_ADF[4].items():\n",
    "    print(f'   {key}, {value}')  \n",
    "\n",
    "print(f't_stat: {res_ADF[5]}')"
   ]
  },
  {
   "cell_type": "markdown",
   "id": "tested-columbus",
   "metadata": {
    "papermill": {
     "duration": 0.064574,
     "end_time": "2021-08-26T01:31:16.000515",
     "exception": false,
     "start_time": "2021-08-26T01:31:15.935941",
     "status": "completed"
    },
    "tags": []
   },
   "source": [
    "Reject null of unit root for log_return data. Evidence for stationarity of log-returns."
   ]
  },
  {
   "cell_type": "markdown",
   "id": "geological-heavy",
   "metadata": {
    "papermill": {
     "duration": 0.057591,
     "end_time": "2021-08-26T01:31:16.116898",
     "exception": false,
     "start_time": "2021-08-26T01:31:16.059307",
     "status": "completed"
    },
    "tags": []
   },
   "source": [
    "<a id='5min'></a>\n",
    "# 5-minute intraday data"
   ]
  },
  {
   "cell_type": "markdown",
   "id": "liquid-sleeping",
   "metadata": {
    "papermill": {
     "duration": 0.057871,
     "end_time": "2021-08-26T01:31:16.233456",
     "exception": false,
     "start_time": "2021-08-26T01:31:16.175585",
     "status": "completed"
    },
    "tags": []
   },
   "source": [
    "According to academic research on intraday trading we have to remove the overnight return, as our goal is to analyse high-frequency data in this section."
   ]
  },
  {
   "cell_type": "code",
   "execution_count": 34,
   "id": "blessed-salmon",
   "metadata": {
    "execution": {
     "iopub.execute_input": "2021-08-26T01:31:16.404865Z",
     "iopub.status.busy": "2021-08-26T01:31:16.383585Z",
     "iopub.status.idle": "2021-08-26T01:31:16.508832Z",
     "shell.execute_reply": "2021-08-26T01:31:16.509372Z",
     "shell.execute_reply.started": "2021-08-13T15:35:15.421222Z"
    },
    "papermill": {
     "duration": 0.217648,
     "end_time": "2021-08-26T01:31:16.509567",
     "exception": false,
     "start_time": "2021-08-26T01:31:16.291919",
     "status": "completed"
    },
    "tags": []
   },
   "outputs": [
    {
     "data": {
      "text/html": [
       "<div>\n",
       "<style scoped>\n",
       "    .dataframe tbody tr th:only-of-type {\n",
       "        vertical-align: middle;\n",
       "    }\n",
       "\n",
       "    .dataframe tbody tr th {\n",
       "        vertical-align: top;\n",
       "    }\n",
       "\n",
       "    .dataframe thead th {\n",
       "        text-align: right;\n",
       "    }\n",
       "</style>\n",
       "<table border=\"1\" class=\"dataframe\">\n",
       "  <thead>\n",
       "    <tr style=\"text-align: right;\">\n",
       "      <th></th>\n",
       "      <th>close</th>\n",
       "      <th>log_return</th>\n",
       "    </tr>\n",
       "    <tr>\n",
       "      <th>date</th>\n",
       "      <th></th>\n",
       "      <th></th>\n",
       "    </tr>\n",
       "  </thead>\n",
       "  <tbody>\n",
       "    <tr>\n",
       "      <th>2021-03-25 15:15:00</th>\n",
       "      <td>14299.75</td>\n",
       "      <td>0.000052</td>\n",
       "    </tr>\n",
       "    <tr>\n",
       "      <th>2021-03-25 15:20:00</th>\n",
       "      <td>14314.95</td>\n",
       "      <td>0.001062</td>\n",
       "    </tr>\n",
       "    <tr>\n",
       "      <th>2021-03-25 15:25:00</th>\n",
       "      <td>14346.40</td>\n",
       "      <td>0.002195</td>\n",
       "    </tr>\n",
       "  </tbody>\n",
       "</table>\n",
       "</div>"
      ],
      "text/plain": [
       "                        close  log_return\n",
       "date                                     \n",
       "2021-03-25 15:15:00  14299.75    0.000052\n",
       "2021-03-25 15:20:00  14314.95    0.001062\n",
       "2021-03-25 15:25:00  14346.40    0.002195"
      ]
     },
     "execution_count": 34,
     "metadata": {},
     "output_type": "execute_result"
    }
   ],
   "source": [
    "d = df.copy()\n",
    "for i in range(len(d)-1):\n",
    "    if (i+1)%75==0:\n",
    "        d['close'][i] = np.nan\n",
    "    else:\n",
    "        pass\n",
    "d['log_return'] = d.close.apply(np.log).diff()\n",
    "d = d.dropna()\n",
    "d.tail(3)"
   ]
  },
  {
   "cell_type": "code",
   "execution_count": 35,
   "id": "associate-practitioner",
   "metadata": {
    "execution": {
     "iopub.execute_input": "2021-08-26T01:31:16.635356Z",
     "iopub.status.busy": "2021-08-26T01:31:16.634519Z",
     "iopub.status.idle": "2021-08-26T01:31:16.637946Z",
     "shell.execute_reply": "2021-08-26T01:31:16.637408Z",
     "shell.execute_reply.started": "2021-08-13T15:34:57.301117Z"
    },
    "papermill": {
     "duration": 0.066015,
     "end_time": "2021-08-26T01:31:16.638074",
     "exception": false,
     "start_time": "2021-08-26T01:31:16.572059",
     "status": "completed"
    },
    "tags": []
   },
   "outputs": [],
   "source": [
    "#def p(x):\n",
    "#    return x[0]*x[2]\n",
    "#(d['log_return']).rolling(window=3).apply(p, raw=True) \n",
    "#(d).rolling(window=2).agg(np.prod)"
   ]
  },
  {
   "cell_type": "markdown",
   "id": "determined-dynamics",
   "metadata": {
    "papermill": {
     "duration": 0.057885,
     "end_time": "2021-08-26T01:31:16.754299",
     "exception": false,
     "start_time": "2021-08-26T01:31:16.696414",
     "status": "completed"
    },
    "tags": []
   },
   "source": [
    "## Stationarity Analysis\n",
    "\n",
    "### Price data"
   ]
  },
  {
   "cell_type": "code",
   "execution_count": 36,
   "id": "hairy-investigator",
   "metadata": {
    "execution": {
     "iopub.execute_input": "2021-08-26T01:31:16.879877Z",
     "iopub.status.busy": "2021-08-26T01:31:16.879177Z",
     "iopub.status.idle": "2021-08-26T01:31:17.391754Z",
     "shell.execute_reply": "2021-08-26T01:31:17.390700Z",
     "shell.execute_reply.started": "2021-08-13T02:45:16.54363Z"
    },
    "papermill": {
     "duration": 0.578037,
     "end_time": "2021-08-26T01:31:17.391984",
     "exception": false,
     "start_time": "2021-08-26T01:31:16.813947",
     "status": "completed"
    },
    "tags": []
   },
   "outputs": [
    {
     "data": {
      "image/png": "[encoded data removed]",
      "text/plain": [
       "<Figure size 432x288 with 1 Axes>"
      ]
     },
     "metadata": {
      "needs_background": "light"
     },
     "output_type": "display_data"
    }
   ],
   "source": [
    "plot_pacf(d['close'])\n",
    "plt.show()"
   ]
  },
  {
   "cell_type": "markdown",
   "id": "retained-kuwait",
   "metadata": {
    "papermill": {
     "duration": 0.072122,
     "end_time": "2021-08-26T01:31:17.542947",
     "exception": false,
     "start_time": "2021-08-26T01:31:17.470825",
     "status": "completed"
    },
    "tags": []
   },
   "source": [
    "### Log-return data"
   ]
  },
  {
   "cell_type": "code",
   "execution_count": 37,
   "id": "accomplished-topic",
   "metadata": {
    "execution": {
     "iopub.execute_input": "2021-08-26T01:31:17.684671Z",
     "iopub.status.busy": "2021-08-26T01:31:17.683682Z",
     "iopub.status.idle": "2021-08-26T01:31:18.843068Z",
     "shell.execute_reply": "2021-08-26T01:31:18.843587Z",
     "shell.execute_reply.started": "2021-08-13T02:45:16.998736Z"
    },
    "papermill": {
     "duration": 1.23631,
     "end_time": "2021-08-26T01:31:18.843775",
     "exception": false,
     "start_time": "2021-08-26T01:31:17.607465",
     "status": "completed"
    },
    "tags": []
   },
   "outputs": [
    {
     "data": {
      "image/png": "[encoded data removed]",
      "text/plain": [
       "<Figure size 432x288 with 1 Axes>"
      ]
     },
     "metadata": {
      "needs_background": "light"
     },
     "output_type": "display_data"
    }
   ],
   "source": [
    "plot_pacf(d['log_return'])\n",
    "plt.show()"
   ]
  },
  {
   "cell_type": "markdown",
   "id": "limiting-settlement",
   "metadata": {
    "papermill": {
     "duration": 0.059395,
     "end_time": "2021-08-26T01:31:18.963553",
     "exception": false,
     "start_time": "2021-08-26T01:31:18.904158",
     "status": "completed"
    },
    "tags": []
   },
   "source": [
    "### Augmented Dickey-Fuller Unit root test\n",
    "Price data"
   ]
  },
  {
   "cell_type": "code",
   "execution_count": 38,
   "id": "incomplete-paradise",
   "metadata": {
    "execution": {
     "iopub.execute_input": "2021-08-26T01:31:19.089973Z",
     "iopub.status.busy": "2021-08-26T01:31:19.088896Z",
     "iopub.status.idle": "2021-08-26T01:31:52.439714Z",
     "shell.execute_reply": "2021-08-26T01:31:52.440333Z",
     "shell.execute_reply.started": "2021-08-13T02:45:17.467919Z"
    },
    "papermill": {
     "duration": 33.417056,
     "end_time": "2021-08-26T01:31:52.440516",
     "exception": false,
     "start_time": "2021-08-26T01:31:19.023460",
     "status": "completed"
    },
    "tags": []
   },
   "outputs": [
    {
     "name": "stdout",
     "output_type": "stream",
     "text": [
      "ADF Statistic: -2.1267193448189974\n",
      "p-value: 0.5311056308221667\n",
      "n_lags: 70\n",
      "Critial Values:\n",
      "   1%, -3.9588510535249517\n",
      "   5%, -3.4105293074138894\n",
      "   10%, -3.127073148860674\n",
      "t_stat: 880341.4937230706\n"
     ]
    }
   ],
   "source": [
    "res_ADF = adfuller(d.close, regression='ct')\n",
    "print(f'ADF Statistic: {res_ADF[0]}')\n",
    "print(f'p-value: {res_ADF[1]}')\n",
    "print(f'n_lags: {res_ADF[2]}')\n",
    "print('Critial Values:')\n",
    "\n",
    "for key, value in res_ADF[4].items():\n",
    "    print(f'   {key}, {value}')  \n",
    "    \n",
    "print(f't_stat: {res_ADF[5]}')"
   ]
  },
  {
   "cell_type": "markdown",
   "id": "logical-visit",
   "metadata": {
    "papermill": {
     "duration": 0.059682,
     "end_time": "2021-08-26T01:31:52.560425",
     "exception": false,
     "start_time": "2021-08-26T01:31:52.500743",
     "status": "completed"
    },
    "tags": []
   },
   "source": [
    "Can not reject null of unit root for HF price data.  Evidence for non-stationarity of log-returns."
   ]
  },
  {
   "cell_type": "code",
   "execution_count": 39,
   "id": "accurate-conflict",
   "metadata": {
    "execution": {
     "iopub.execute_input": "2021-08-26T01:31:52.687144Z",
     "iopub.status.busy": "2021-08-26T01:31:52.686044Z",
     "iopub.status.idle": "2021-08-26T01:32:24.073822Z",
     "shell.execute_reply": "2021-08-26T01:32:24.074417Z",
     "shell.execute_reply.started": "2021-08-13T02:45:48.809442Z"
    },
    "papermill": {
     "duration": 31.454157,
     "end_time": "2021-08-26T01:32:24.074616",
     "exception": false,
     "start_time": "2021-08-26T01:31:52.620459",
     "status": "completed"
    },
    "tags": []
   },
   "outputs": [
    {
     "name": "stdout",
     "output_type": "stream",
     "text": [
      "ADF Statistic: -38.99581640720955\n",
      "p-value: 0.0\n",
      "n_lags: 69\n",
      "Critial Values:\n",
      "   1%, -3.4304085463377523\n",
      "   5%, -2.8615658765939047\n",
      "   10%, -2.5667837732002505\n",
      "t_stat: -1174405.6137937787\n"
     ]
    }
   ],
   "source": [
    "res_ADF = adfuller(d.log_return, regression='c')\n",
    "print(f'ADF Statistic: {res_ADF[0]}')\n",
    "print(f'p-value: {res_ADF[1]}')\n",
    "print(f'n_lags: {res_ADF[2]}')\n",
    "print('Critial Values:')\n",
    "\n",
    "for key, value in res_ADF[4].items():\n",
    "    print(f'   {key}, {value}')  \n",
    "    \n",
    "print(f't_stat: {res_ADF[5]}')"
   ]
  },
  {
   "cell_type": "markdown",
   "id": "existing-watson",
   "metadata": {
    "papermill": {
     "duration": 0.059884,
     "end_time": "2021-08-26T01:32:24.200087",
     "exception": false,
     "start_time": "2021-08-26T01:32:24.140203",
     "status": "completed"
    },
    "tags": []
   },
   "source": [
    "Reject null of unit root for HF log_return data. Evidence for stationarity of log-returns."
   ]
  },
  {
   "cell_type": "markdown",
   "id": "innocent-error",
   "metadata": {
    "papermill": {
     "duration": 0.059827,
     "end_time": "2021-08-26T01:32:24.320185",
     "exception": false,
     "start_time": "2021-08-26T01:32:24.260358",
     "status": "completed"
    },
    "tags": []
   },
   "source": [
    "## Financial returns modelling\n",
    "ARCH https://arch.readthedocs.io/en/latest/univariate/univariate_volatility_modeling.html"
   ]
  },
  {
   "cell_type": "code",
   "execution_count": 40,
   "id": "amber-blackberry",
   "metadata": {
    "execution": {
     "iopub.execute_input": "2021-08-26T01:32:24.446892Z",
     "iopub.status.busy": "2021-08-26T01:32:24.446262Z",
     "iopub.status.idle": "2021-08-26T01:32:24.527003Z",
     "shell.execute_reply": "2021-08-26T01:32:24.527921Z",
     "shell.execute_reply.started": "2021-08-13T02:46:18.99058Z"
    },
    "papermill": {
     "duration": 0.147816,
     "end_time": "2021-08-26T01:32:24.528200",
     "exception": false,
     "start_time": "2021-08-26T01:32:24.380384",
     "status": "completed"
    },
    "tags": []
   },
   "outputs": [
    {
     "name": "stdout",
     "output_type": "stream",
     "text": [
      "                     AR - Constant Variance Model Results                     \n",
      "==============================================================================\n",
      "Dep. Variable:             log_return   R-squared:                       0.000\n",
      "Mean Model:                        AR   Adj. R-squared:                  0.000\n",
      "Vol Model:          Constant Variance   Log-Likelihood:                587240.\n",
      "Distribution:                  Normal   AIC:                      -1.17447e+06\n",
      "Method:            Maximum Likelihood   BIC:                      -1.17445e+06\n",
      "                                        No. Observations:               111748\n",
      "Date:                Thu, Aug 26 2021   Df Residuals:                   111746\n",
      "Time:                        01:32:24   Df Model:                            2\n",
      "                                    Mean Model                                   \n",
      "=================================================================================\n",
      "                     coef    std err          t      P>|t|       95.0% Conf. Int.\n",
      "---------------------------------------------------------------------------------\n",
      "Const          5.1746e-06  3.785e-06      1.367      0.172 [-2.244e-06,1.259e-05]\n",
      "log_return[19]     0.0180  7.376e-03      2.440  1.468e-02  [3.542e-03,3.246e-02]\n",
      "                              Volatility Model                              \n",
      "============================================================================\n",
      "                 coef    std err          t      P>|t|      95.0% Conf. Int.\n",
      "----------------------------------------------------------------------------\n",
      "sigma2     1.5961e-06  1.228e-07     12.996  1.283e-38 [1.355e-06,1.837e-06]\n",
      "============================================================================\n",
      "\n",
      "Covariance estimator: White's Heteroskedasticity Consistent Estimator\n"
     ]
    }
   ],
   "source": [
    "ar = ARX(d.log_return, lags=[19])\n",
    "print(ar.fit().summary())"
   ]
  },
  {
   "cell_type": "code",
   "execution_count": 41,
   "id": "intended-property",
   "metadata": {
    "execution": {
     "iopub.execute_input": "2021-08-26T01:32:24.716314Z",
     "iopub.status.busy": "2021-08-26T01:32:24.715616Z",
     "iopub.status.idle": "2021-08-26T01:32:26.197131Z",
     "shell.execute_reply": "2021-08-26T01:32:26.198102Z",
     "shell.execute_reply.started": "2021-08-13T02:46:19.087106Z"
    },
    "papermill": {
     "duration": 1.554272,
     "end_time": "2021-08-26T01:32:26.198384",
     "exception": false,
     "start_time": "2021-08-26T01:32:24.644112",
     "status": "completed"
    },
    "tags": []
   },
   "outputs": [
    {
     "name": "stderr",
     "output_type": "stream",
     "text": [
      "/opt/conda/lib/python3.7/site-packages/arch/univariate/base.py:755: ConvergenceWarning: The optimizer returned code 4. The message is:\n",
      "Inequality constraints incompatible\n",
      "See scipy.optimize.fmin_slsqp for code meaning.\n",
      "\n",
      "  ConvergenceWarning,\n"
     ]
    },
    {
     "name": "stdout",
     "output_type": "stream",
     "text": [
      "                         AR - GJR-GARCH Model Results                         \n",
      "==============================================================================\n",
      "Dep. Variable:             log_return   R-squared:                       0.000\n",
      "Mean Model:                        AR   Adj. R-squared:                  0.000\n",
      "Vol Model:                  GJR-GARCH   Log-Likelihood:                615972.\n",
      "Distribution:                  Normal   AIC:                      -1.23193e+06\n",
      "Method:            Maximum Likelihood   BIC:                      -1.23187e+06\n",
      "                                        No. Observations:               111748\n",
      "Date:                Thu, Aug 26 2021   Df Residuals:                   111746\n",
      "Time:                        01:32:25   Df Model:                            2\n",
      "                                    Mean Model                                   \n",
      "=================================================================================\n",
      "                     coef    std err          t      P>|t|       95.0% Conf. Int.\n",
      "---------------------------------------------------------------------------------\n",
      "Const          5.1746e-06  8.946e-06      0.578      0.563 [-1.236e-05,2.271e-05]\n",
      "log_return[19]     0.0180  5.010e-03      3.593  3.270e-04  [8.181e-03,2.782e-02]\n",
      "                              Volatility Model                              \n",
      "============================================================================\n",
      "                 coef    std err          t      P>|t|      95.0% Conf. Int.\n",
      "----------------------------------------------------------------------------\n",
      "omega      3.1922e-08  1.476e-11   2162.328      0.000 [3.189e-08,3.195e-08]\n",
      "alpha[1]       0.0500  1.923e-02      2.600  9.335e-03 [1.230e-02,8.770e-02]\n",
      "gamma[1]       0.1000  2.772e-02      3.607  3.098e-04   [4.566e-02,  0.154]\n",
      "beta[1]        0.8800  7.180e-03    122.557      0.000     [  0.866,  0.894]\n",
      "============================================================================\n",
      "\n",
      "Covariance estimator: robust\n",
      "WARNING: The optimizer did not indicate successful convergence. The message was Inequality constraints incompatible.\n",
      "See convergence_flag.\n",
      "\n"
     ]
    }
   ],
   "source": [
    "ar.volatility = GARCH(p=1, o=1, q=1)\n",
    "res = ar.fit(disp=\"off\")\n",
    "print(res.summary())"
   ]
  },
  {
   "cell_type": "code",
   "execution_count": 42,
   "id": "taken-pioneer",
   "metadata": {
    "execution": {
     "iopub.execute_input": "2021-08-26T01:32:26.398840Z",
     "iopub.status.busy": "2021-08-26T01:32:26.396181Z",
     "iopub.status.idle": "2021-08-26T01:32:26.887883Z",
     "shell.execute_reply": "2021-08-26T01:32:26.888395Z",
     "shell.execute_reply.started": "2021-08-13T02:46:20.480645Z"
    },
    "papermill": {
     "duration": 0.586926,
     "end_time": "2021-08-26T01:32:26.888570",
     "exception": false,
     "start_time": "2021-08-26T01:32:26.301644",
     "status": "completed"
    },
    "tags": []
   },
   "outputs": [
    {
     "data": {
      "image/png": "[encoded data removed]",
      "text/plain": [
       "<Figure size 432x288 with 2 Axes>"
      ]
     },
     "execution_count": 42,
     "metadata": {},
     "output_type": "execute_result"
    },
    {
     "data": {
      "image/png": "[encoded data removed]",
      "text/plain": [
       "<Figure size 432x288 with 2 Axes>"
      ]
     },
     "metadata": {
      "needs_background": "light"
     },
     "output_type": "display_data"
    }
   ],
   "source": [
    "res.plot()"
   ]
  }
 ],
 "metadata": {
  "kernelspec": {
   "display_name": "Python 3",
   "language": "python",
   "name": "python3"
  },
  "language_info": {
   "codemirror_mode": {
    "name": "ipython",
    "version": 3
   },
   "file_extension": ".py",
   "mimetype": "text/x-python",
   "name": "python",
   "nbconvert_exporter": "python",
   "pygments_lexer": "ipython3",
   "version": "3.7.9"
  },
  "papermill": {
   "default_parameters": {},
   "duration": 148.936052,
   "end_time": "2021-08-26T01:32:27.762577",
   "environment_variables": {},
   "exception": null,
   "input_path": "__notebook__.ipynb",
   "output_path": "__notebook__.ipynb",
   "parameters": {},
   "start_time": "2021-08-26T01:29:58.826525",
   "version": "2.3.2"
  }
 },
 "nbformat": 4,
 "nbformat_minor": 5
}
